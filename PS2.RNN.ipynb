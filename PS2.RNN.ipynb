{
 "cells": [
  {
   "cell_type": "markdown",
   "metadata": {},
   "source": [
    "# <div style=\"text-align: center\"> Recurrent Neural Networks (RNN)</div>\n",
    "#### <div style=\"text-align: right\"> 2019.09.23 Monday</div>\n",
    "#### <div style=\"text-align: right\"> Prof. Changho Suh, TA Jaewoong Cho, Junhyung Ahn</div>"
   ]
  },
  {
   "cell_type": "markdown",
   "metadata": {},
   "source": [
    "**실습목표**\n",
    "- Simple RNN 생성하기\n",
    "- RNN을 훈련하여 시계열 예측하기 \n",
    "- Long Short-Term Memory (LSTM)\n",
    "- LSTM을 훈련하여 문장의 다음 글자 예측하기"
   ]
  },
  {
   "cell_type": "code",
   "execution_count": null,
   "metadata": {},
   "outputs": [],
   "source": [
    "import tensorflow as tf\n",
    "import numpy as np\n",
    "import os\n",
    "import matplotlib as mpl\n",
    "import matplotlib.pyplot as plt\n",
    "\n",
    "from tensorflow import keras\n",
    "from keras import backend as K\n",
    "from sklearn.model_selection import train_test_split\n",
    "\n",
    "%matplotlib inline\n",
    "mpl.rc('axes', labelsize=14)\n",
    "mpl.rc('xtick', labelsize=12)\n",
    "mpl.rc('ytick', labelsize=12)"
   ]
  },
  {
   "cell_type": "code",
   "execution_count": 2,
   "metadata": {},
   "outputs": [],
   "source": [
    "from tensorflow.compat.v1 import ConfigProto\n",
    "from tensorflow.compat.v1 import InteractiveSession\n",
    "\n",
    "config = ConfigProto()\n",
    "config.gpu_options.allow_growth = True\n",
    "session = InteractiveSession(config=config)"
   ]
  },
  {
   "cell_type": "markdown",
   "metadata": {},
   "source": [
    "## 1-A. BasicRNNCell 함수 사용하여 RNN 생성하기"
   ]
  },
  {
   "cell_type": "code",
   "execution_count": 3,
   "metadata": {},
   "outputs": [
    {
     "name": "stdout",
     "output_type": "stream",
     "text": [
      "WARNING:tensorflow:\n",
      "The TensorFlow contrib module will not be included in TensorFlow 2.0.\n",
      "For more information, please see:\n",
      "  * https://github.com/tensorflow/community/blob/master/rfcs/20180907-contrib-sunset.md\n",
      "  * https://github.com/tensorflow/addons\n",
      "  * https://github.com/tensorflow/io (for I/O related ops)\n",
      "If you depend on functionality not listed there, please file an issue.\n",
      "\n",
      "WARNING:tensorflow:From <ipython-input-3-9d5f1e36b58f>:11: BasicRNNCell.__init__ (from tensorflow.python.ops.rnn_cell_impl) is deprecated and will be removed in a future version.\n",
      "Instructions for updating:\n",
      "This class is equivalent as tf.keras.layers.SimpleRNNCell, and will be replaced by that in Tensorflow 2.0.\n",
      "WARNING:tensorflow:From <ipython-input-3-9d5f1e36b58f>:14: static_rnn (from tensorflow.python.ops.rnn) is deprecated and will be removed in a future version.\n",
      "Instructions for updating:\n",
      "Please use `keras.layers.RNN(cell, unroll=True)`, which is equivalent to this API\n",
      "WARNING:tensorflow:From /Library/Frameworks/Python.framework/Versions/3.6/lib/python3.6/site-packages/tensorflow/python/ops/init_ops.py:1251: calling VarianceScaling.__init__ (from tensorflow.python.ops.init_ops) with dtype is deprecated and will be removed in a future version.\n",
      "Instructions for updating:\n",
      "Call initializer instance with the dtype argument instead of passing it to the constructor\n",
      "WARNING:tensorflow:From /Library/Frameworks/Python.framework/Versions/3.6/lib/python3.6/site-packages/tensorflow/python/ops/rnn_cell_impl.py:459: calling Zeros.__init__ (from tensorflow.python.ops.init_ops) with dtype is deprecated and will be removed in a future version.\n",
      "Instructions for updating:\n",
      "Call initializer instance with the dtype argument instead of passing it to the constructor\n",
      "Output: \n",
      " [array([[-0.56233144, -0.18003908, -0.11927243, -0.5916475 , -0.808992  ],\n",
      "       [ 0.04340465, -0.6133471 ,  0.9879283 , -0.64647233, -0.9999432 ],\n",
      "       [ 0.6188259 , -0.84730375,  0.99994195, -0.6953453 , -1.        ],\n",
      "       [ 0.9999337 ,  0.84050345,  0.9999679 ,  0.9893061 , -0.9999887 ]],\n",
      "      dtype=float32)] \n",
      "\n",
      "States: \n",
      " [[-0.56233144 -0.18003908 -0.11927243 -0.5916475  -0.808992  ]\n",
      " [ 0.04340465 -0.6133471   0.9879283  -0.64647233 -0.9999432 ]\n",
      " [ 0.6188259  -0.84730375  0.99994195 -0.6953453  -1.        ]\n",
      " [ 0.9999337   0.84050345  0.9999679   0.9893061  -0.9999887 ]]\n",
      "\n",
      "Output == States? \n",
      " [[[ True  True  True  True  True]\n",
      "  [ True  True  True  True  True]\n",
      "  [ True  True  True  True  True]\n",
      "  [ True  True  True  True  True]]]\n"
     ]
    }
   ],
   "source": [
    "# h0 = y0\n",
    "n_steps = 1\n",
    "input_dim= 3\n",
    "output_dim = 5\n",
    "\n",
    "X = tf.placeholder(tf.float32, [None,input_dim])\n",
    "\n",
    "seq_length  = tf.placeholder(tf.int32, [None])\n",
    "\n",
    "with tf.variable_scope(\"static_rnn1\", reuse=tf.AUTO_REUSE):\n",
    "    basic_cell = tf.contrib.rnn.BasicRNNCell(num_units=output_dim)\n",
    "    outputs, states = tf.nn.static_rnn(cell=basic_cell, \n",
    "                                       inputs=[X], \n",
    "                                       dtype=tf.float32,)\n",
    "\n",
    "X_batch  = np.array([[0,1,2],    \n",
    "                     [3,4,5],    \n",
    "                     [6,7,8],    \n",
    "                     [9,0,1]])    \n",
    "\n",
    "with tf.Session() as sess:\n",
    "    init = tf.global_variables_initializer()\n",
    "    init.run()\n",
    "    output_vals, states_val = sess.run([outputs, states], \n",
    "                                       feed_dict= {X: X_batch})\n",
    "\n",
    "print(\"Output: \\n {} \\n\".format(output_vals))\n",
    "print(\"States: \\n {}\\n\".format(states_val))\n",
    "print(\"Output == States? \\n {}\".format(output_vals==states_val))"
   ]
  },
  {
   "cell_type": "code",
   "execution_count": 4,
   "metadata": {},
   "outputs": [
    {
     "name": "stdout",
     "output_type": "stream",
     "text": [
      "Y0_val: \n",
      "[[-0.7128702   0.22047797 -0.31345582 -0.7274499   0.4539332 ]\n",
      " [-0.9680902  -0.55264467 -0.9892219  -0.70019233  0.36532313]\n",
      " [-0.99686855 -0.89929473 -0.99988765 -0.6707284   0.26955807]\n",
      " [ 0.921483   -0.27687404 -0.9987096   0.9999135  -0.97968525]]\n",
      "Y1_val: \n",
      "[[-0.98888886 -0.99653494 -0.99999464  0.9751793  -0.19905706]\n",
      " [-0.44483373  0.08369151 -0.624548    0.8837494   0.50089234]\n",
      " [-0.9755083  -0.9311371  -0.9999352   0.9835458  -0.3325341 ]\n",
      " [-0.07110606 -0.1738214  -0.99530214 -0.32368097 -0.4379642 ]]\n",
      "State_val: \n",
      "[[-0.98888886 -0.99653494 -0.99999464  0.9751793  -0.19905706]\n",
      " [-0.44483373  0.08369151 -0.624548    0.8837494   0.50089234]\n",
      " [-0.9755083  -0.9311371  -0.9999352   0.9835458  -0.3325341 ]\n",
      " [-0.07110606 -0.1738214  -0.99530214 -0.32368097 -0.4379642 ]]\n"
     ]
    }
   ],
   "source": [
    "# 정적으로 타임 스텝 펼치기\n",
    "X0 = tf.placeholder(tf.float32, [None, input_dim])\n",
    "X1 =  tf.placeholder(tf.float32, [None, input_dim])\n",
    "\n",
    "# 미니배치\n",
    "X0_batch = np.array([[0,1,2],[3,4,5],[6,7,8],[9,0,1]]) #t=0\n",
    "X1_batch = np.array([[9,8,7],[0,0,0],[6,5,4],[3,2,1]]) #t=1\n",
    "\n",
    "with tf.variable_scope(\"static_rnn2\", reuse=tf.AUTO_REUSE):\n",
    "    basic_cell = tf.contrib.rnn.BasicRNNCell(num_units=output_dim)\n",
    "    output_seqs, states = tf.contrib.rnn.static_rnn(cell=basic_cell,\n",
    "                                                    inputs=[X0,X1],\n",
    "                                                    dtype=tf.float32)\n",
    "    Y0,Y1 = output_seqs\n",
    "\n",
    "with tf.Session() as sess:\n",
    "    init = tf.global_variables_initializer()\n",
    "    sess.run(init)\n",
    "    Y0_val, Y1_val = sess.run([Y0,Y1], feed_dict={X0: X0_batch, X1:X1_batch})\n",
    "    state_val = sess.run(states, feed_dict={X0: X0_batch, X1:X1_batch})\n",
    "    \n",
    "print(\"Y0_val: \\n{}\".format(Y0_val))      # t=0에서 y \n",
    "print(\"Y1_val: \\n{}\".format(Y1_val))      # t=1에서 y \n",
    "print(\"State_val: \\n{}\".format(state_val)) # t=1에서의 h"
   ]
  },
  {
   "cell_type": "code",
   "execution_count": 5,
   "metadata": {
    "scrolled": false
   },
   "outputs": [
    {
     "name": "stdout",
     "output_type": "stream",
     "text": [
      "WARNING:tensorflow:From <ipython-input-5-74ff72c54c39>:11: dynamic_rnn (from tensorflow.python.ops.rnn) is deprecated and will be removed in a future version.\n",
      "Instructions for updating:\n",
      "Please use `keras.layers.RNN(cell)`, which is equivalent to this API\n",
      "WARNING:tensorflow:From /Library/Frameworks/Python.framework/Versions/3.6/lib/python3.6/site-packages/tensorflow/python/ops/rnn.py:244: add_dispatch_support.<locals>.wrapper (from tensorflow.python.ops.array_ops) is deprecated and will be removed in a future version.\n",
      "Instructions for updating:\n",
      "Use tf.where in 2.0, which has the same broadcast rule as np.where\n",
      "Output: \n",
      " [[[-0.9098966  -0.73847723 -0.8324766  -0.9073465   0.10579449]\n",
      "  [-0.99999356 -0.93494034 -1.         -1.          0.98807913]]\n",
      "\n",
      " [[-0.9997401  -0.9657181  -0.99990827 -0.99998623  0.6314578 ]\n",
      "  [ 0.          0.          0.          0.          0.        ]]\n",
      "\n",
      " [[-0.9999993  -0.9959644  -0.99999994 -1.          0.8812827 ]\n",
      "  [-0.9907304  -0.3283927  -0.9999975  -0.9999999   0.97889   ]]\n",
      "\n",
      " [[ 0.35958418  0.98694026 -0.9999843  -0.9996461  -0.31001166]\n",
      "  [-0.7897222   0.73124266 -0.98425174 -0.9889532   0.6712074 ]]] \n",
      "\n",
      "States: \n",
      " [[-0.99999356 -0.93494034 -1.         -1.          0.98807913]\n",
      " [-0.9997401  -0.9657181  -0.99990827 -0.99998623  0.6314578 ]\n",
      " [-0.9907304  -0.3283927  -0.9999975  -0.9999999   0.97889   ]\n",
      " [-0.7897222   0.73124266 -0.98425174 -0.9889532   0.6712074 ]]\n"
     ]
    }
   ],
   "source": [
    "# 가변 길이 시퀀스 입력\n",
    "n_steps = 2\n",
    "\n",
    "X = tf.placeholder(tf.float32, [None, n_steps, input_dim])\n",
    "seq_length  = tf.placeholder(tf.int32, [None])\n",
    "with tf.variable_scope(\"dynamic_rnn\", reuse=tf.AUTO_REUSE):\n",
    "    basic_cell = tf.contrib.rnn.BasicRNNCell(num_units=output_dim)\n",
    "    outputs, states = tf.nn.dynamic_rnn(cell=basic_cell, \n",
    "                                        inputs=X, \n",
    "                                        dtype=tf.float32, \n",
    "                                        sequence_length=seq_length)\n",
    "\n",
    "X_batch  = np.array([\n",
    "                     # t = 0  # t = 1\n",
    "                     [[0,1,2],[9,8,7]],    # 샘플 0\n",
    "                     [[3,4,5],[0,0,0]],    # 샘플 1\n",
    "                     [[6,7,8],[6,5,4]],    # 샘플 2\n",
    "                     [[9,0,1],[3,2,1]]])   # 샘플 3\n",
    "\n",
    "seq_length_batch = np.array([2,1,2,2])\n",
    "\n",
    "with tf.Session() as sess:\n",
    "    init = tf.global_variables_initializer()\n",
    "    init.run()\n",
    "    output_vals, states_val = sess.run([outputs,states], feed_dict={X:X_batch, seq_length:seq_length_batch})\n",
    "    \n",
    "print(\"Output: \\n {} \\n\".format(output_vals))\n",
    "print(\"States: \\n {}\".format(states_val))"
   ]
  },
  {
   "cell_type": "markdown",
   "metadata": {},
   "source": [
    "## 1-B. 시계열 예측을 위해 훈련하기"
   ]
  },
  {
   "cell_type": "code",
   "execution_count": 6,
   "metadata": {
    "scrolled": true
   },
   "outputs": [],
   "source": [
    "def generate_time_series(batch_size, n_steps):\n",
    "    freq1, freq2, offsets1, offsets2 = np.random.rand(4, batch_size, 1)\n",
    "    time = np.linspace(0, 1, n_steps)\n",
    "    series = 0.5 * np.sin((time - offsets1) * (freq1 * 10 + 10))  \n",
    "    series += 0.2 * np.sin((time - offsets2) * (freq2 * 20 + 20)) \n",
    "    series += 0.1 * (np.random.rand(batch_size, n_steps) - 0.5)   \n",
    "    return series[..., np.newaxis].astype(np.float32)"
   ]
  },
  {
   "cell_type": "code",
   "execution_count": 7,
   "metadata": {},
   "outputs": [],
   "source": [
    "np.random.seed(42)\n",
    "\n",
    "n_steps = 50\n",
    "series = generate_time_series(10000, n_steps + 1)"
   ]
  },
  {
   "cell_type": "code",
   "execution_count": 8,
   "metadata": {},
   "outputs": [],
   "source": [
    "X_train, y_train = series[:7000, :n_steps], series[:7000, -1]\n",
    "X_valid, y_valid = series[7000:9000, :n_steps], series[7000:9000, -1]\n",
    "X_test, y_test = series[9000:, :n_steps], series[9000:, -1]"
   ]
  },
  {
   "cell_type": "code",
   "execution_count": 9,
   "metadata": {},
   "outputs": [
    {
     "data": {
      "text/plain": [
       "((7000, 50, 1), (7000, 1))"
      ]
     },
     "execution_count": 9,
     "metadata": {},
     "output_type": "execute_result"
    }
   ],
   "source": [
    "X_train.shape, y_train.shape"
   ]
  },
  {
   "cell_type": "code",
   "execution_count": 10,
   "metadata": {},
   "outputs": [
    {
     "data": {
      "image/png": "[encoded data removed]",
      "text/plain": [
       "<Figure size 864x288 with 3 Axes>"
      ]
     },
     "metadata": {},
     "output_type": "display_data"
    }
   ],
   "source": [
    "def plot_series(series, y=None, y_pred=None, \n",
    "                x_label=\"$t$\", \n",
    "                y_label=\"$x(t)$\"):\n",
    "    plt.plot(series, \".-\")\n",
    "    if y is not None:\n",
    "        plt.plot(n_steps, y, \"bx\", markersize=10, label='Actual')\n",
    "    if y_pred is not None:\n",
    "        plt.plot(n_steps, y_pred, \"ro\",label='Prediction')\n",
    "    plt.grid(True)\n",
    "    if x_label:\n",
    "        plt.xlabel(x_label, fontsize=16)\n",
    "    if y_label:\n",
    "        plt.ylabel(y_label, fontsize=16, rotation=0)\n",
    "    plt.hlines(0, 0, 100, linewidth=1)\n",
    "    plt.axis([0, n_steps + 1, -1, 1])\n",
    "\n",
    "fig, axes = plt.subplots(nrows=1, ncols=3, sharey=True,\n",
    "                         figsize=(12, 4))\n",
    "for col in range(3):\n",
    "    plt.sca(axes[col])\n",
    "    plot_series(X_valid[col, :, 0], y_valid[col, 0],\n",
    "                y_label=(\"$x(t)$\" if col==0 else None))\n",
    "plt.show()"
   ]
  },
  {
   "cell_type": "markdown",
   "metadata": {},
   "source": [
    "### 1. Simple RNN"
   ]
  },
  {
   "cell_type": "code",
   "execution_count": 11,
   "metadata": {
    "scrolled": false
   },
   "outputs": [
    {
     "name": "stdout",
     "output_type": "stream",
     "text": [
      "Train on 7000 samples, validate on 2000 samples\n",
      "Epoch 1/20\n",
      "7000/7000 [==============================] - 2s 312us/sample - loss: 0.0295 - val_loss: 0.0071\n",
      "Epoch 2/20\n",
      "7000/7000 [==============================] - 2s 274us/sample - loss: 0.0058 - val_loss: 0.0053\n",
      "Epoch 3/20\n",
      "7000/7000 [==============================] - 2s 257us/sample - loss: 0.0048 - val_loss: 0.0043\n",
      "Epoch 4/20\n",
      "7000/7000 [==============================] - 2s 253us/sample - loss: 0.0042 - val_loss: 0.0039\n",
      "Epoch 5/20\n",
      "7000/7000 [==============================] - 2s 260us/sample - loss: 0.0037 - val_loss: 0.0035\n",
      "Epoch 6/20\n",
      "7000/7000 [==============================] - 2s 259us/sample - loss: 0.0035 - val_loss: 0.0033\n",
      "Epoch 7/20\n",
      "7000/7000 [==============================] - 2s 259us/sample - loss: 0.0034 - val_loss: 0.0032\n",
      "Epoch 8/20\n",
      "7000/7000 [==============================] - 2s 286us/sample - loss: 0.0033 - val_loss: 0.0031\n",
      "Epoch 9/20\n",
      "7000/7000 [==============================] - 2s 269us/sample - loss: 0.0033 - val_loss: 0.0031\n",
      "Epoch 10/20\n",
      "7000/7000 [==============================] - 2s 266us/sample - loss: 0.0033 - val_loss: 0.0031\n",
      "Epoch 11/20\n",
      "7000/7000 [==============================] - 2s 257us/sample - loss: 0.0032 - val_loss: 0.0031\n",
      "Epoch 12/20\n",
      "7000/7000 [==============================] - 2s 261us/sample - loss: 0.0032 - val_loss: 0.0031\n",
      "Epoch 13/20\n",
      "7000/7000 [==============================] - 2s 275us/sample - loss: 0.0032 - val_loss: 0.0032\n",
      "Epoch 14/20\n",
      "7000/7000 [==============================] - 2s 267us/sample - loss: 0.0032 - val_loss: 0.0034\n",
      "Epoch 15/20\n",
      "7000/7000 [==============================] - 2s 266us/sample - loss: 0.0032 - val_loss: 0.0030\n",
      "Epoch 16/20\n",
      "7000/7000 [==============================] - 2s 267us/sample - loss: 0.0032 - val_loss: 0.0030\n",
      "Epoch 17/20\n",
      "7000/7000 [==============================] - 2s 243us/sample - loss: 0.0032 - val_loss: 0.0029\n",
      "Epoch 18/20\n",
      "7000/7000 [==============================] - 2s 260us/sample - loss: 0.0031 - val_loss: 0.0036\n",
      "Epoch 19/20\n",
      "7000/7000 [==============================] - 2s 249us/sample - loss: 0.0032 - val_loss: 0.0030\n",
      "Epoch 20/20\n",
      "7000/7000 [==============================] - 2s 252us/sample - loss: 0.0032 - val_loss: 0.0029\n"
     ]
    }
   ],
   "source": [
    "np.random.seed(42)\n",
    "\n",
    "simple_rnn_model = keras.models.Sequential([\n",
    "    keras.layers.SimpleRNN(20, input_shape=[None, 1]),\n",
    "    keras.layers.Dense(1)\n",
    "])\n",
    "\n",
    "simple_rnn_model.compile(loss=\"mse\", optimizer=\"adam\")\n",
    "simple_rnn_history = simple_rnn_model.fit(X_train, y_train, epochs=20, \n",
    "                     validation_data=(X_valid, y_valid))"
   ]
  },
  {
   "cell_type": "code",
   "execution_count": 12,
   "metadata": {},
   "outputs": [],
   "source": [
    "def plot_loss_curves(history):\n",
    "    plt.figure(figsize=(12,6))\n",
    "    plt.plot(history.history[\"loss\"], label=\"Training loss\")\n",
    "    plt.plot(history.history[\"val_loss\"], label=\"Validation loss\")\n",
    "    plt.xlabel(\"Epoch\")\n",
    "    plt.ylabel(\"Loss\")\n",
    "    plt.legend()\n",
    "    plt.show()"
   ]
  },
  {
   "cell_type": "code",
   "execution_count": 13,
   "metadata": {},
   "outputs": [
    {
     "data": {
      "image/png": "[encoded data removed]",
      "text/plain": [
       "<Figure size 864x432 with 1 Axes>"
      ]
     },
     "metadata": {},
     "output_type": "display_data"
    }
   ],
   "source": [
    "plot_loss_curves(simple_rnn_history)"
   ]
  },
  {
   "cell_type": "code",
   "execution_count": 14,
   "metadata": {},
   "outputs": [
    {
     "name": "stdout",
     "output_type": "stream",
     "text": [
      "1000/1000 [==============================] - 0s 71us/sample - loss: 0.0030\n"
     ]
    },
    {
     "data": {
      "text/plain": [
       "0.0030215728962793946"
      ]
     },
     "execution_count": 14,
     "metadata": {},
     "output_type": "execute_result"
    }
   ],
   "source": [
    "simple_rnn_model.evaluate(X_test, y_test)"
   ]
  },
  {
   "cell_type": "code",
   "execution_count": 15,
   "metadata": {},
   "outputs": [
    {
     "data": {
      "image/png": "[encoded data removed]",
      "text/plain": [
       "<Figure size 432x288 with 1 Axes>"
      ]
     },
     "metadata": {},
     "output_type": "display_data"
    }
   ],
   "source": [
    "simple_rnn_y_pred = simple_rnn_model.predict(X_test)\n",
    "plot_series(X_test[0, :, 0], y_test[0, 0], simple_rnn_y_pred[0, 0])\n",
    "plt.show()"
   ]
  },
  {
   "cell_type": "code",
   "execution_count": 16,
   "metadata": {
    "scrolled": true
   },
   "outputs": [
    {
     "name": "stdout",
     "output_type": "stream",
     "text": [
      "Simple RNN Error: -0.007794633507728577\n"
     ]
    }
   ],
   "source": [
    "print(\"Simple RNN Error: {}\".format(y_test[0,0] - simple_rnn_y_pred[0,0]))"
   ]
  },
  {
   "cell_type": "markdown",
   "metadata": {},
   "source": [
    "###  2. LSTM"
   ]
  },
  {
   "cell_type": "code",
   "execution_count": 17,
   "metadata": {
    "scrolled": true
   },
   "outputs": [
    {
     "name": "stdout",
     "output_type": "stream",
     "text": [
      "[[[0.00767819]\n",
      "  [0.01597687]\n",
      "  [0.02480671]]] (1, 3, 1)\n"
     ]
    }
   ],
   "source": [
    "k_init = keras.initializers.Constant(value=0.1)\n",
    "b_init = keras.initializers.Constant(value=0)\n",
    "r_init = keras.initializers.Constant(value=0.1)\n",
    "\n",
    "units = 1\n",
    "\n",
    "inputs1 = keras.layers.Input(shape=(3, 2))\n",
    "lstm1 = keras.layers.LSTM(units, return_sequences=True, kernel_initializer=k_init, bias_initializer=b_init, recurrent_initializer=r_init)(inputs1)\n",
    "model = keras.models.Model(inputs=inputs1, outputs=lstm1)\n",
    "\n",
    "data = np.array([0.1, 0.2, 0.3, 0.1, 0.2, 0.3]).reshape((1,3,2))\n",
    "\n",
    "output = model.predict(data)\n",
    "print(output, output.shape)"
   ]
  },
  {
   "cell_type": "code",
   "execution_count": 18,
   "metadata": {},
   "outputs": [
    {
     "name": "stdout",
     "output_type": "stream",
     "text": [
      "[[0.02480671]] (1, 1)\n"
     ]
    }
   ],
   "source": [
    "inputs1 = keras.layers.Input(shape=(3, 2))\n",
    "lstm1 = keras.layers.LSTM(units, kernel_initializer=k_init, bias_initializer=b_init, recurrent_initializer=r_init)(inputs1)\n",
    "model = keras.models.Model(inputs=inputs1, outputs=lstm1)\n",
    "\n",
    "data = np.array([0.1, 0.2, 0.3, 0.1, 0.2, 0.3]).reshape((1,3,2))\n",
    "\n",
    "preds = model.predict(data)\n",
    "print(preds, preds.shape)"
   ]
  },
  {
   "cell_type": "code",
   "execution_count": 19,
   "metadata": {
    "scrolled": false
   },
   "outputs": [
    {
     "name": "stdout",
     "output_type": "stream",
     "text": [
      "Train on 7000 samples, validate on 2000 samples\n",
      "Epoch 1/20\n",
      "7000/7000 [==============================] - 8s 1ms/sample - loss: 0.0446 - val_loss: 0.0186\n",
      "Epoch 2/20\n",
      "7000/7000 [==============================] - 8s 1ms/sample - loss: 0.0115 - val_loss: 0.0063\n",
      "Epoch 3/20\n",
      "7000/7000 [==============================] - 7s 1ms/sample - loss: 0.0054 - val_loss: 0.0048\n",
      "Epoch 4/20\n",
      "7000/7000 [==============================] - 7s 961us/sample - loss: 0.0044 - val_loss: 0.0042\n",
      "Epoch 5/20\n",
      "7000/7000 [==============================] - 7s 961us/sample - loss: 0.0041 - val_loss: 0.0037\n",
      "Epoch 6/20\n",
      "7000/7000 [==============================] - 7s 970us/sample - loss: 0.0040 - val_loss: 0.0035\n",
      "Epoch 7/20\n",
      "7000/7000 [==============================] - 9s 1ms/sample - loss: 0.0037 - val_loss: 0.0034\n",
      "Epoch 8/20\n",
      "7000/7000 [==============================] - 7s 987us/sample - loss: 0.0036 - val_loss: 0.0038\n",
      "Epoch 9/20\n",
      "7000/7000 [==============================] - 7s 957us/sample - loss: 0.0034 - val_loss: 0.0032\n",
      "Epoch 10/20\n",
      "7000/7000 [==============================] - 7s 1ms/sample - loss: 0.0033 - val_loss: 0.0030\n",
      "Epoch 11/20\n",
      "7000/7000 [==============================] - 7s 960us/sample - loss: 0.0032 - val_loss: 0.0030\n",
      "Epoch 12/20\n",
      "7000/7000 [==============================] - 7s 956us/sample - loss: 0.0033 - val_loss: 0.0031\n",
      "Epoch 13/20\n",
      "7000/7000 [==============================] - 7s 1ms/sample - loss: 0.0031 - val_loss: 0.0033\n",
      "Epoch 14/20\n",
      "7000/7000 [==============================] - 7s 1ms/sample - loss: 0.0031 - val_loss: 0.0034\n",
      "Epoch 15/20\n",
      "7000/7000 [==============================] - 6s 910us/sample - loss: 0.0031 - val_loss: 0.0028\n",
      "Epoch 16/20\n",
      "7000/7000 [==============================] - 6s 901us/sample - loss: 0.0031 - val_loss: 0.0028\n",
      "Epoch 17/20\n",
      "7000/7000 [==============================] - 6s 900us/sample - loss: 0.0031 - val_loss: 0.0030\n",
      "Epoch 18/20\n",
      "7000/7000 [==============================] - 7s 936us/sample - loss: 0.0031 - val_loss: 0.0034\n",
      "Epoch 19/20\n",
      "7000/7000 [==============================] - 6s 919us/sample - loss: 0.0032 - val_loss: 0.0027\n",
      "Epoch 20/20\n",
      "7000/7000 [==============================] - 7s 948us/sample - loss: 0.0030 - val_loss: 0.0028\n"
     ]
    }
   ],
   "source": [
    "np.random.seed(42)\n",
    "\n",
    "lstm_model = keras.models.Sequential([\n",
    "    keras.layers.LSTM(units=20, input_shape=[None, 1]),\n",
    "    keras.layers.Dense(1)\n",
    "])\n",
    "\n",
    "lstm_model.compile(loss=\"mse\", optimizer=\"adam\")\n",
    "lstm_history = lstm_model.fit(X_train, y_train, epochs=20, \n",
    "                    validation_data=(X_valid, y_valid))"
   ]
  },
  {
   "cell_type": "code",
   "execution_count": 20,
   "metadata": {},
   "outputs": [
    {
     "data": {
      "image/png": "[encoded data removed]",
      "text/plain": [
       "<Figure size 864x432 with 1 Axes>"
      ]
     },
     "metadata": {},
     "output_type": "display_data"
    }
   ],
   "source": [
    "plot_loss_curves(lstm_history)"
   ]
  },
  {
   "cell_type": "code",
   "execution_count": 21,
   "metadata": {
    "scrolled": true
   },
   "outputs": [
    {
     "name": "stdout",
     "output_type": "stream",
     "text": [
      "1000/1000 [==============================] - 0s 139us/sample - loss: 0.0031\n"
     ]
    },
    {
     "data": {
      "text/plain": [
       "0.0031115294620394705"
      ]
     },
     "execution_count": 21,
     "metadata": {},
     "output_type": "execute_result"
    }
   ],
   "source": [
    "lstm_model.evaluate(X_test, y_test)"
   ]
  },
  {
   "cell_type": "code",
   "execution_count": 22,
   "metadata": {},
   "outputs": [
    {
     "data": {
      "image/png": "[encoded data removed]",
      "text/plain": [
       "<Figure size 432x288 with 1 Axes>"
      ]
     },
     "metadata": {},
     "output_type": "display_data"
    }
   ],
   "source": [
    "lstm_y_pred = lstm_model.predict(X_test)\n",
    "plot_series(X_test[0, :, 0], y_test[0, 0], lstm_y_pred[0, 0])\n",
    "plt.show()"
   ]
  },
  {
   "cell_type": "code",
   "execution_count": 23,
   "metadata": {
    "scrolled": true
   },
   "outputs": [
    {
     "name": "stdout",
     "output_type": "stream",
     "text": [
      "LSTM Error: 0.0019524618983268738\n"
     ]
    }
   ],
   "source": [
    "print(\"LSTM Error: {}\".format(y_test[0,0] - lstm_y_pred[0,0]))"
   ]
  },
  {
   "cell_type": "markdown",
   "metadata": {},
   "source": [
    "## 1-C. LSTM 이용하여 다음 글자 예측하기"
   ]
  },
  {
   "cell_type": "code",
   "execution_count": 24,
   "metadata": {},
   "outputs": [],
   "source": [
    "shakespeare_url = \"https://raw.githubusercontent.com/karpathy/char-rnn/master/data/tinyshakespeare/input.txt\"\n",
    "filepath = keras.utils.get_file(\"shakespeare.txt\", shakespeare_url)\n",
    "with open(filepath) as f:\n",
    "    shakespeare_text = f.read()"
   ]
  },
  {
   "cell_type": "code",
   "execution_count": 25,
   "metadata": {},
   "outputs": [],
   "source": [
    "tokenizer = keras.preprocessing.text.Tokenizer(char_level=True)\n",
    "tokenizer.fit_on_texts(shakespeare_text)"
   ]
  },
  {
   "cell_type": "code",
   "execution_count": 26,
   "metadata": {},
   "outputs": [
    {
     "data": {
      "text/plain": [
       "[[20, 6, 9, 8, 3]]"
      ]
     },
     "execution_count": 26,
     "metadata": {},
     "output_type": "execute_result"
    }
   ],
   "source": [
    "tokenizer.texts_to_sequences([\"First\"])"
   ]
  },
  {
   "cell_type": "code",
   "execution_count": 27,
   "metadata": {},
   "outputs": [
    {
     "data": {
      "text/plain": [
       "['f i r s t']"
      ]
     },
     "execution_count": 27,
     "metadata": {},
     "output_type": "execute_result"
    }
   ],
   "source": [
    "tokenizer.sequences_to_texts([[20, 6, 9, 8, 3]])"
   ]
  },
  {
   "cell_type": "code",
   "execution_count": 28,
   "metadata": {},
   "outputs": [],
   "source": [
    "max_id = len(tokenizer.word_index) \n",
    "dataset_size = tokenizer.document_count "
   ]
  },
  {
   "cell_type": "code",
   "execution_count": 29,
   "metadata": {},
   "outputs": [],
   "source": [
    "[encoded] = np.array(tokenizer.texts_to_sequences([shakespeare_text])) - 1\n",
    "train_size = dataset_size * 1 // 100"
   ]
  },
  {
   "cell_type": "code",
   "execution_count": 30,
   "metadata": {},
   "outputs": [],
   "source": [
    "dataset = tf.data.Dataset.from_tensor_slices(encoded[:train_size])"
   ]
  },
  {
   "cell_type": "code",
   "execution_count": 31,
   "metadata": {},
   "outputs": [],
   "source": [
    "n_steps = 100\n",
    "window_length = n_steps + 1 \n",
    "dataset = dataset.repeat().window(window_length, shift=1, \n",
    "                                  drop_remainder=True)"
   ]
  },
  {
   "cell_type": "code",
   "execution_count": 32,
   "metadata": {
    "scrolled": true
   },
   "outputs": [],
   "source": [
    "dataset = dataset.flat_map(lambda window: window.batch(window_length))"
   ]
  },
  {
   "cell_type": "code",
   "execution_count": 33,
   "metadata": {},
   "outputs": [],
   "source": [
    "np.random.seed(42)"
   ]
  },
  {
   "cell_type": "code",
   "execution_count": 34,
   "metadata": {},
   "outputs": [],
   "source": [
    "batch_size = 32\n",
    "dataset = dataset.shuffle(10000).batch(batch_size)\n",
    "dataset = dataset.map(lambda windows: (windows[:, :-1], windows[:, 1:]))"
   ]
  },
  {
   "cell_type": "code",
   "execution_count": 35,
   "metadata": {},
   "outputs": [],
   "source": [
    "dataset = dataset.map(lambda X_batch, Y_batch: \n",
    "                      (tf.one_hot(X_batch, depth=max_id), Y_batch))"
   ]
  },
  {
   "cell_type": "code",
   "execution_count": 36,
   "metadata": {
    "scrolled": true
   },
   "outputs": [
    {
     "name": "stdout",
     "output_type": "stream",
     "text": [
      "Epoch 1/10\n",
      "348/348 [==============================] - 51s 147ms/step - loss: 3.1523\n",
      "Epoch 2/10\n",
      "348/348 [==============================] - 52s 149ms/step - loss: 3.0192\n",
      "Epoch 3/10\n",
      "348/348 [==============================] - 54s 154ms/step - loss: 2.8390\n",
      "Epoch 4/10\n",
      "348/348 [==============================] - 53s 152ms/step - loss: 2.7080\n",
      "Epoch 5/10\n",
      "348/348 [==============================] - 54s 156ms/step - loss: 2.6221\n",
      "Epoch 6/10\n",
      "348/348 [==============================] - 54s 154ms/step - loss: 2.5616\n",
      "Epoch 7/10\n",
      "348/348 [==============================] - 52s 150ms/step - loss: 2.5211\n",
      "Epoch 8/10\n",
      "348/348 [==============================] - 54s 154ms/step - loss: 2.4885\n",
      "Epoch 9/10\n",
      "348/348 [==============================] - 51s 147ms/step - loss: 2.4693\n",
      "Epoch 10/10\n",
      "348/348 [==============================] - 50s 144ms/step - loss: 2.4476\n"
     ]
    }
   ],
   "source": [
    "lstm_model = keras.models.Sequential([\n",
    "    keras.layers.LSTM(20, dropout=0.5, return_sequences=True, \n",
    "                      input_shape=[None, max_id]),\n",
    "    keras.layers.LSTM(20, dropout=0.5, return_sequences=True),\n",
    "    keras.layers.Dense(max_id, activation=\"softmax\")\n",
    "])\n",
    "\n",
    "lstm_model.compile(loss=\"sparse_categorical_crossentropy\", \n",
    "              optimizer=\"adam\")\n",
    "lstm_history = lstm_model.fit(dataset, \n",
    "                    steps_per_epoch=train_size // batch_size, \n",
    "                    epochs=10)"
   ]
  },
  {
   "cell_type": "code",
   "execution_count": 37,
   "metadata": {},
   "outputs": [],
   "source": [
    "def preprocess(texts):\n",
    "    X = np.array(tokenizer.texts_to_sequences(texts)) - 1\n",
    "    return tf.one_hot(X, max_id)"
   ]
  },
  {
   "cell_type": "code",
   "execution_count": 38,
   "metadata": {},
   "outputs": [],
   "source": [
    "X_new = preprocess([\"How are yo\"])\n",
    "sess = tf.Session()\n",
    "with sess.as_default():\n",
    "    X_new = X_new.eval()"
   ]
  },
  {
   "cell_type": "code",
   "execution_count": null,
   "metadata": {},
   "outputs": [],
   "source": [
    "lstm_Y_pred = lstm_model.predict_classes(X_new)\n",
    "tokenizer.sequences_to_texts(lstm_Y_pred + 1)[0]"
   ]
  }
 ],
 "metadata": {
  "kernelspec": {
   "display_name": "Python 3",
   "language": "python",
   "name": "python3"
  },
  "language_info": {
   "codemirror_mode": {
    "name": "ipython",
    "version": 3
   },
   "file_extension": ".py",
   "mimetype": "text/x-python",
   "name": "python",
   "nbconvert_exporter": "python",
   "pygments_lexer": "ipython3",
   "version": "3.6.4"
  }
 },
 "nbformat": 4,
 "nbformat_minor": 2
}
