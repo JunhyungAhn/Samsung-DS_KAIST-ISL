{
 "cells": [
  {
   "cell_type": "markdown",
   "metadata": {},
   "source": [
    "# <div style=\"text-align: center\"> Recurrent Neural Networks (RNN)</div>\n",
    "#### <div style=\"text-align: right\"> 2019.09.23 Monday</div>\n",
    "#### <div style=\"text-align: right\"> Prof. Changho Suh, TA Jaewoong Cho, Junhyung Ahn</div>"
   ]
  },
  {
   "cell_type": "markdown",
   "metadata": {},
   "source": [
    "**실습목표**\n",
    "- Simple RNN 생성하기\n",
    "- RNN을 훈련하여 시계열 예측하기 \n",
    "- Long Short-Term Memory (LSTM)\n",
    "- LSTM을 훈련하여 문장의 다음 글자 예측하기"
   ]
  },
  {
   "cell_type": "code",
   "execution_count": 46,
   "metadata": {},
   "outputs": [],
   "source": [
    "import tensorflow as tf\n",
    "import numpy as np\n",
    "import os\n",
    "import matplotlib as mpl\n",
    "import matplotlib.pyplot as plt\n",
    "\n",
    "from tensorflow import keras\n",
    "from keras import backend as K\n",
    "from sklearn.model_selection import train_test_split\n",
    "\n",
    "%matplotlib inline\n",
    "mpl.rc('axes', labelsize=14)\n",
    "mpl.rc('xtick', labelsize=12)\n",
    "mpl.rc('ytick', labelsize=12)"
   ]
  },
  {
   "cell_type": "code",
   "execution_count": 47,
   "metadata": {},
   "outputs": [
    {
     "name": "stderr",
     "output_type": "stream",
     "text": [
      "/Library/Frameworks/Python.framework/Versions/3.6/lib/python3.6/site-packages/tensorflow/python/client/session.py:1735: UserWarning: An interactive session is already active. This can cause out-of-memory errors in some cases. You must explicitly call `InteractiveSession.close()` to release resources held by the other session(s).\n",
      "  warnings.warn('An interactive session is already active. This can '\n"
     ]
    }
   ],
   "source": [
    "from tensorflow.compat.v1 import ConfigProto\n",
    "from tensorflow.compat.v1 import InteractiveSession\n",
    "\n",
    "config = ConfigProto()\n",
    "config.gpu_options.allow_growth = True\n",
    "session = InteractiveSession(config=config)"
   ]
  },
  {
   "cell_type": "markdown",
   "metadata": {},
   "source": [
    "## 1-A. BasicRNNCell 함수 사용하여 RNN 생성하기"
   ]
  },
  {
   "cell_type": "code",
   "execution_count": 50,
   "metadata": {},
   "outputs": [
    {
     "name": "stdout",
     "output_type": "stream",
     "text": [
      "Output: \n",
      " [array([[ 0.9207962 ,  0.34963745, -0.01397787,  0.47276846, -0.21596593],\n",
      "       [ 0.99883825, -0.832915  ,  0.50546956,  0.31505665, -0.8750153 ],\n",
      "       [ 0.9999836 , -0.9920233 ,  0.8100691 ,  0.13778743, -0.9863121 ],\n",
      "       [-0.9942612 , -0.9959178 , -0.8612159 , -0.99997175, -0.9999049 ]],\n",
      "      dtype=float32)] \n",
      "\n",
      "States: \n",
      " [[ 0.9207962   0.34963745 -0.01397787  0.47276846 -0.21596593]\n",
      " [ 0.99883825 -0.832915    0.50546956  0.31505665 -0.8750153 ]\n",
      " [ 0.9999836  -0.9920233   0.8100691   0.13778743 -0.9863121 ]\n",
      " [-0.9942612  -0.9959178  -0.8612159  -0.99997175 -0.9999049 ]]\n",
      "\n",
      "Output == States? \n",
      " [[[ True  True  True  True  True]\n",
      "  [ True  True  True  True  True]\n",
      "  [ True  True  True  True  True]\n",
      "  [ True  True  True  True  True]]]\n"
     ]
    }
   ],
   "source": [
    "# h0 = y0\n",
    "n_steps = 1\n",
    "input_dim= 3\n",
    "output_dim = 5\n",
    "\n",
    "X = tf.placeholder(tf.float32, [None,input_dim])\n",
    "\n",
    "seq_length  = tf.placeholder(tf.int32, [None])\n",
    "\n",
    "with tf.variable_scope(\"static_rnn1\", reuse=tf.AUTO_REUSE):\n",
    "    basic_cell = tf.contrib.rnn.BasicRNNCell(num_units=output_dim)\n",
    "    outputs, states = tf.nn.static_rnn(cell=basic_cell, \n",
    "                                       inputs=[X], \n",
    "                                       dtype=tf.float32,)\n",
    "\n",
    "X_batch  = np.array([[0,1,2],    \n",
    "                     [3,4,5],    \n",
    "                     [6,7,8],    \n",
    "                     [9,0,1]])    \n",
    "\n",
    "with tf.Session() as sess:\n",
    "    init = tf.global_variables_initializer()\n",
    "    init.run()\n",
    "    output_vals, states_val = sess.run([outputs, states], \n",
    "                                       feed_dict= {X: X_batch})\n",
    "\n",
    "print(\"Output: \\n {} \\n\".format(output_vals))\n",
    "print(\"States: \\n {}\\n\".format(states_val))\n",
    "print(\"Output == States? \\n {}\".format(output_vals==states_val))"
   ]
  },
  {
   "cell_type": "code",
   "execution_count": 51,
   "metadata": {},
   "outputs": [
    {
     "name": "stdout",
     "output_type": "stream",
     "text": [
      "Y0_val: \n",
      "[[-0.87066317  0.49929413 -0.25245985 -0.5123728   0.02678159]\n",
      " [-0.9930459   0.91180754 -0.0554027  -0.9437915  -0.74064124]\n",
      " [-0.99964786  0.98733664  0.14606708 -0.9948265  -0.95878065]\n",
      " [ 0.99340624  0.9768319   0.9942247  -0.11067729 -0.99998724]]\n",
      "Y1_val: \n",
      "[[-0.9979179   0.99325913  0.8119636  -0.997788   -0.9979568 ]\n",
      " [-0.6986857   0.7202441   0.5236847  -0.54405767 -0.5277086 ]\n",
      " [-0.991633    0.98646975  0.88804877 -0.98462534 -0.9883795 ]\n",
      " [-0.82182723  0.66508096  0.28495625  0.01597729 -0.51042885]]\n",
      "State_val: \n",
      "[[-0.9979179   0.99325913  0.8119636  -0.997788   -0.9979568 ]\n",
      " [-0.6986857   0.7202441   0.5236847  -0.54405767 -0.5277086 ]\n",
      " [-0.991633    0.98646975  0.88804877 -0.98462534 -0.9883795 ]\n",
      " [-0.82182723  0.66508096  0.28495625  0.01597729 -0.51042885]]\n"
     ]
    }
   ],
   "source": [
    "# 정적으로 타임 스텝 펼치기\n",
    "X0 = tf.placeholder(tf.float32, [None, input_dim])\n",
    "X1 =  tf.placeholder(tf.float32, [None, input_dim])\n",
    "\n",
    "# 미니배치\n",
    "X0_batch = np.array([[0,1,2],[3,4,5],[6,7,8],[9,0,1]]) #t=0\n",
    "X1_batch = np.array([[9,8,7],[0,0,0],[6,5,4],[3,2,1]]) #t=1\n",
    "\n",
    "with tf.variable_scope(\"static_rnn2\", reuse=tf.AUTO_REUSE):\n",
    "    basic_cell = tf.contrib.rnn.BasicRNNCell(num_units=output_dim)\n",
    "    output_seqs, states = tf.contrib.rnn.static_rnn(cell=basic_cell,\n",
    "                                                    inputs=[X0,X1],\n",
    "                                                    dtype=tf.float32)\n",
    "    Y0,Y1 = output_seqs\n",
    "\n",
    "with tf.Session() as sess:\n",
    "    init = tf.global_variables_initializer()\n",
    "    sess.run(init)\n",
    "    Y0_val, Y1_val = sess.run([Y0,Y1], feed_dict={X0: X0_batch, X1:X1_batch})\n",
    "    state_val = sess.run(states, feed_dict={X0: X0_batch, X1:X1_batch})\n",
    "    \n",
    "print(\"Y0_val: \\n{}\".format(Y0_val))      # t=0에서 y \n",
    "print(\"Y1_val: \\n{}\".format(Y1_val))      # t=1에서 y \n",
    "print(\"State_val: \\n{}\".format(state_val)) # t=1에서의 h"
   ]
  },
  {
   "cell_type": "code",
   "execution_count": 52,
   "metadata": {
    "scrolled": true
   },
   "outputs": [
    {
     "name": "stdout",
     "output_type": "stream",
     "text": [
      "Output: \n",
      " [[[ 0.01511491  0.43136883  0.867973   -0.60770935 -0.8473967 ]\n",
      "  [ 0.9995246  -0.99981225  0.9999903  -0.92064476 -0.16303636]]\n",
      "\n",
      " [[ 0.87998676 -0.7450873   0.9988349  -0.9214566  -0.95696396]\n",
      "  [ 0.          0.          0.          0.          0.        ]]\n",
      "\n",
      " [[ 0.9916346  -0.9831891   0.9999904  -0.9863973  -0.988359  ]\n",
      "  [ 0.9836236  -0.9985476   0.9999416  -0.94341534  0.2658181 ]]\n",
      "\n",
      " [[ 0.999952   -0.9965568  -0.07962056 -0.61947775  0.99984694]\n",
      "  [ 0.9257996  -0.98416525  0.95307446 -0.8186719  -0.37909037]]] \n",
      "\n",
      "States: \n",
      " [[ 0.9995246  -0.99981225  0.9999903  -0.92064476 -0.16303636]\n",
      " [ 0.87998676 -0.7450873   0.9988349  -0.9214566  -0.95696396]\n",
      " [ 0.9836236  -0.9985476   0.9999416  -0.94341534  0.2658181 ]\n",
      " [ 0.9257996  -0.98416525  0.95307446 -0.8186719  -0.37909037]]\n"
     ]
    }
   ],
   "source": [
    "# 가변 길이 시퀀스 입력\n",
    "n_steps = 2\n",
    "\n",
    "X = tf.placeholder(tf.float32, [None, n_steps, input_dim])\n",
    "seq_length  = tf.placeholder(tf.int32, [None])\n",
    "with tf.variable_scope(\"dynamic_rnn\", reuse=tf.AUTO_REUSE):\n",
    "    basic_cell = tf.contrib.rnn.BasicRNNCell(num_units=output_dim)\n",
    "    outputs, states = tf.nn.dynamic_rnn(cell=basic_cell, \n",
    "                                        inputs=X, \n",
    "                                        dtype=tf.float32, \n",
    "                                        sequence_length=seq_length)\n",
    "\n",
    "X_batch  = np.array([\n",
    "                     # t = 0  # t = 1\n",
    "                     [[0,1,2],[9,8,7]],    # 샘플 0\n",
    "                     [[3,4,5],[0,0,0]],    # 샘플 1\n",
    "                     [[6,7,8],[6,5,4]],    # 샘플 2\n",
    "                     [[9,0,1],[3,2,1]]])   # 샘플 3\n",
    "\n",
    "seq_length_batch = np.array([2,1,2,2])\n",
    "\n",
    "with tf.Session() as sess:\n",
    "    init = tf.global_variables_initializer()\n",
    "    init.run()\n",
    "    output_vals, states_val = sess.run([outputs,states], feed_dict={X:X_batch, seq_length:seq_length_batch})\n",
    "    \n",
    "print(\"Output: \\n {} \\n\".format(output_vals))\n",
    "print(\"States: \\n {}\".format(states_val))"
   ]
  },
  {
   "cell_type": "markdown",
   "metadata": {},
   "source": [
    "## 1-B. 시계열 예측을 위해 훈련하기"
   ]
  },
  {
   "cell_type": "code",
   "execution_count": 11,
   "metadata": {
    "scrolled": true
   },
   "outputs": [],
   "source": [
    "def generate_time_series(batch_size, n_steps):\n",
    "    freq1, freq2, offsets1, offsets2 = np.random.rand(4, batch_size, 1)\n",
    "    time = np.linspace(0, 1, n_steps)\n",
    "    series = 0.5 * np.sin((time - offsets1) * (freq1 * 10 + 10))  \n",
    "    series += 0.2 * np.sin((time - offsets2) * (freq2 * 20 + 20)) \n",
    "    series += 0.1 * (np.random.rand(batch_size, n_steps) - 0.5)   \n",
    "    return series[..., np.newaxis].astype(np.float32)"
   ]
  },
  {
   "cell_type": "code",
   "execution_count": 12,
   "metadata": {},
   "outputs": [],
   "source": [
    "np.random.seed(42)\n",
    "\n",
    "n_steps = 50\n",
    "series = generate_time_series(10000, n_steps + 1)"
   ]
  },
  {
   "cell_type": "code",
   "execution_count": 13,
   "metadata": {},
   "outputs": [],
   "source": [
    "X_train, y_train = series[:7000, :n_steps], series[:7000, -1]\n",
    "X_valid, y_valid = series[7000:9000, :n_steps], series[7000:9000, -1]\n",
    "X_test, y_test = series[9000:, :n_steps], series[9000:, -1]"
   ]
  },
  {
   "cell_type": "code",
   "execution_count": 14,
   "metadata": {},
   "outputs": [
    {
     "data": {
      "text/plain": [
       "((7000, 50, 1), (7000, 1))"
      ]
     },
     "execution_count": 14,
     "metadata": {},
     "output_type": "execute_result"
    }
   ],
   "source": [
    "X_train.shape, y_train.shape"
   ]
  },
  {
   "cell_type": "code",
   "execution_count": 15,
   "metadata": {},
   "outputs": [
    {
     "data": {
      "image/png": "[encoded data removed]",
      "text/plain": [
       "<Figure size 864x288 with 3 Axes>"
      ]
     },
     "metadata": {},
     "output_type": "display_data"
    }
   ],
   "source": [
    "def plot_series(series, y=None, y_pred=None, \n",
    "                x_label=\"$t$\", \n",
    "                y_label=\"$x(t)$\"):\n",
    "    plt.plot(series, \".-\")\n",
    "    if y is not None:\n",
    "        plt.plot(n_steps, y, \"bx\", markersize=10, label='Actual')\n",
    "    if y_pred is not None:\n",
    "        plt.plot(n_steps, y_pred, \"ro\",label='Prediction')\n",
    "    plt.grid(True)\n",
    "    if x_label:\n",
    "        plt.xlabel(x_label, fontsize=16)\n",
    "    if y_label:\n",
    "        plt.ylabel(y_label, fontsize=16, rotation=0)\n",
    "    plt.hlines(0, 0, 100, linewidth=1)\n",
    "    plt.axis([0, n_steps + 1, -1, 1])\n",
    "\n",
    "fig, axes = plt.subplots(nrows=1, ncols=3, sharey=True,\n",
    "                         figsize=(12, 4))\n",
    "for col in range(3):\n",
    "    plt.sca(axes[col])\n",
    "    plot_series(X_valid[col, :, 0], y_valid[col, 0],\n",
    "                y_label=(\"$x(t)$\" if col==0 else None))\n",
    "plt.show()"
   ]
  },
  {
   "cell_type": "markdown",
   "metadata": {},
   "source": [
    "### 1. Simple RNN"
   ]
  },
  {
   "cell_type": "code",
   "execution_count": 53,
   "metadata": {
    "scrolled": false
   },
   "outputs": [
    {
     "name": "stdout",
     "output_type": "stream",
     "text": [
      "Train on 7000 samples, validate on 2000 samples\n",
      "Epoch 1/20\n",
      "7000/7000 [==============================] - 3s 374us/sample - loss: 0.0175 - val_loss: 0.0042\n",
      "Epoch 2/20\n",
      "7000/7000 [==============================] - 2s 282us/sample - loss: 0.0040 - val_loss: 0.0035\n",
      "Epoch 3/20\n",
      "7000/7000 [==============================] - 2s 284us/sample - loss: 0.0036 - val_loss: 0.0033\n",
      "Epoch 4/20\n",
      "7000/7000 [==============================] - 2s 278us/sample - loss: 0.0035 - val_loss: 0.0033\n",
      "Epoch 5/20\n",
      "7000/7000 [==============================] - 2s 272us/sample - loss: 0.0034 - val_loss: 0.0032\n",
      "Epoch 6/20\n",
      "7000/7000 [==============================] - 2s 278us/sample - loss: 0.0034 - val_loss: 0.0031\n",
      "Epoch 7/20\n",
      "7000/7000 [==============================] - 2s 272us/sample - loss: 0.0033 - val_loss: 0.0032\n",
      "Epoch 8/20\n",
      "7000/7000 [==============================] - 2s 271us/sample - loss: 0.0033 - val_loss: 0.0032\n",
      "Epoch 9/20\n",
      "7000/7000 [==============================] - 2s 278us/sample - loss: 0.0032 - val_loss: 0.0031\n",
      "Epoch 10/20\n",
      "7000/7000 [==============================] - 2s 299us/sample - loss: 0.0033 - val_loss: 0.0032\n",
      "Epoch 11/20\n",
      "7000/7000 [==============================] - 2s 267us/sample - loss: 0.0032 - val_loss: 0.0031\n",
      "Epoch 12/20\n",
      "7000/7000 [==============================] - 2s 251us/sample - loss: 0.0032 - val_loss: 0.0030\n",
      "Epoch 13/20\n",
      "7000/7000 [==============================] - 2s 288us/sample - loss: 0.0032 - val_loss: 0.0031\n",
      "Epoch 14/20\n",
      "7000/7000 [==============================] - 2s 280us/sample - loss: 0.0032 - val_loss: 0.0032\n",
      "Epoch 15/20\n",
      "7000/7000 [==============================] - 2s 279us/sample - loss: 0.0032 - val_loss: 0.0029\n",
      "Epoch 16/20\n",
      "7000/7000 [==============================] - 2s 265us/sample - loss: 0.0031 - val_loss: 0.0030\n",
      "Epoch 17/20\n",
      "7000/7000 [==============================] - 2s 347us/sample - loss: 0.0031 - val_loss: 0.0030\n",
      "Epoch 18/20\n",
      "7000/7000 [==============================] - 2s 335us/sample - loss: 0.0031 - val_loss: 0.0033\n",
      "Epoch 19/20\n",
      "7000/7000 [==============================] - 2s 295us/sample - loss: 0.0031 - val_loss: 0.0028\n",
      "Epoch 20/20\n",
      "7000/7000 [==============================] - 2s 249us/sample - loss: 0.0031 - val_loss: 0.0028\n"
     ]
    }
   ],
   "source": [
    "np.random.seed(42)\n",
    "\n",
    "simple_rnn_model = keras.models.Sequential([\n",
    "    keras.layers.SimpleRNN(20, input_shape=[None, 1]),\n",
    "    keras.layers.Dense(1)\n",
    "])\n",
    "\n",
    "simple_rnn_model.compile(loss=\"mse\", optimizer=\"adam\")\n",
    "simple_rnn_history = simple_rnn_model.fit(X_train, y_train, epochs=20, \n",
    "                     validation_data=(X_valid, y_valid))"
   ]
  },
  {
   "cell_type": "code",
   "execution_count": 54,
   "metadata": {},
   "outputs": [],
   "source": [
    "def plot_loss_curves(history):\n",
    "    plt.figure(figsize=(12,6))\n",
    "    plt.plot(history.history[\"loss\"], label=\"Training loss\")\n",
    "    plt.plot(history.history[\"val_loss\"], label=\"Validation loss\")\n",
    "    plt.xlabel(\"Epoch\")\n",
    "    plt.ylabel(\"Loss\")\n",
    "    plt.legend()\n",
    "    plt.show()"
   ]
  },
  {
   "cell_type": "code",
   "execution_count": 55,
   "metadata": {},
   "outputs": [
    {
     "data": {
      "image/png": "[encoded data removed]",
      "text/plain": [
       "<Figure size 864x432 with 1 Axes>"
      ]
     },
     "metadata": {},
     "output_type": "display_data"
    }
   ],
   "source": [
    "plot_loss_curves(simple_rnn_history)"
   ]
  },
  {
   "cell_type": "code",
   "execution_count": 56,
   "metadata": {},
   "outputs": [
    {
     "name": "stdout",
     "output_type": "stream",
     "text": [
      "1000/1000 [==============================] - 0s 73us/sample - loss: 0.0030\n"
     ]
    },
    {
     "data": {
      "text/plain": [
       "0.0030309865940362215"
      ]
     },
     "execution_count": 56,
     "metadata": {},
     "output_type": "execute_result"
    }
   ],
   "source": [
    "simple_rnn_model.evaluate(X_test, y_test)"
   ]
  },
  {
   "cell_type": "code",
   "execution_count": 57,
   "metadata": {},
   "outputs": [
    {
     "data": {
      "image/png": "[encoded data removed]",
      "text/plain": [
       "<Figure size 432x288 with 1 Axes>"
      ]
     },
     "metadata": {},
     "output_type": "display_data"
    }
   ],
   "source": [
    "simple_rnn_y_pred = simple_rnn_model.predict(X_test)\n",
    "plot_series(X_test[0, :, 0], y_test[0, 0], simple_rnn_y_pred[0, 0])\n",
    "plt.show()"
   ]
  },
  {
   "cell_type": "code",
   "execution_count": 58,
   "metadata": {
    "scrolled": true
   },
   "outputs": [
    {
     "name": "stdout",
     "output_type": "stream",
     "text": [
      "Simple RNN Error: -0.018621355295181274\n"
     ]
    }
   ],
   "source": [
    "print(\"Simple RNN Error: {}\".format(y_test[0,0] - simple_rnn_y_pred[0,0]))"
   ]
  },
  {
   "cell_type": "markdown",
   "metadata": {},
   "source": [
    "###  2. LSTM"
   ]
  },
  {
   "cell_type": "code",
   "execution_count": 59,
   "metadata": {
    "scrolled": false
   },
   "outputs": [
    {
     "name": "stdout",
     "output_type": "stream",
     "text": [
      "Train on 7000 samples, validate on 2000 samples\n",
      "Epoch 1/20\n",
      "7000/7000 [==============================] - 8s 1ms/sample - loss: 0.0444 - val_loss: 0.0208\n",
      "Epoch 2/20\n",
      "7000/7000 [==============================] - 7s 1ms/sample - loss: 0.0148 - val_loss: 0.0097\n",
      "Epoch 3/20\n",
      "7000/7000 [==============================] - 8s 1ms/sample - loss: 0.0071 - val_loss: 0.0053\n",
      "Epoch 4/20\n",
      "7000/7000 [==============================] - 7s 964us/sample - loss: 0.0045 - val_loss: 0.0039\n",
      "Epoch 5/20\n",
      "7000/7000 [==============================] - 6s 923us/sample - loss: 0.0035 - val_loss: 0.0029\n",
      "Epoch 6/20\n",
      "7000/7000 [==============================] - 6s 922us/sample - loss: 0.0032 - val_loss: 0.0030\n",
      "Epoch 7/20\n",
      "7000/7000 [==============================] - 7s 1ms/sample - loss: 0.0031 - val_loss: 0.0027\n",
      "Epoch 8/20\n",
      "7000/7000 [==============================] - 8s 1ms/sample - loss: 0.0030 - val_loss: 0.0028\n",
      "Epoch 9/20\n",
      "7000/7000 [==============================] - 8s 1ms/sample - loss: 0.0030 - val_loss: 0.0028\n",
      "Epoch 10/20\n",
      "7000/7000 [==============================] - 7s 1ms/sample - loss: 0.0029 - val_loss: 0.0027\n",
      "Epoch 11/20\n",
      "7000/7000 [==============================] - 7s 1ms/sample - loss: 0.0030 - val_loss: 0.0027\n",
      "Epoch 12/20\n",
      "7000/7000 [==============================] - 7s 1ms/sample - loss: 0.0030 - val_loss: 0.0027\n",
      "Epoch 13/20\n",
      "7000/7000 [==============================] - 7s 1ms/sample - loss: 0.0029 - val_loss: 0.0031\n",
      "Epoch 14/20\n",
      "7000/7000 [==============================] - 7s 1ms/sample - loss: 0.0029 - val_loss: 0.0030\n",
      "Epoch 15/20\n",
      "7000/7000 [==============================] - 7s 1ms/sample - loss: 0.0029 - val_loss: 0.0027\n",
      "Epoch 16/20\n",
      "7000/7000 [==============================] - 8s 1ms/sample - loss: 0.0029 - val_loss: 0.0027\n",
      "Epoch 17/20\n",
      "7000/7000 [==============================] - 8s 1ms/sample - loss: 0.0029 - val_loss: 0.0026\n",
      "Epoch 18/20\n",
      "7000/7000 [==============================] - 9s 1ms/sample - loss: 0.0029 - val_loss: 0.0032\n",
      "Epoch 19/20\n",
      "7000/7000 [==============================] - 8s 1ms/sample - loss: 0.0029 - val_loss: 0.0026\n",
      "Epoch 20/20\n",
      "7000/7000 [==============================] - 8s 1ms/sample - loss: 0.0028 - val_loss: 0.0027\n"
     ]
    }
   ],
   "source": [
    "np.random.seed(42)\n",
    "\n",
    "lstm_model = keras.models.Sequential([\n",
    "    keras.layers.LSTM(units=20, input_shape=[None, 1]),\n",
    "    keras.layers.Dense(1)\n",
    "])\n",
    "\n",
    "lstm_model.compile(loss=\"mse\", optimizer=\"adam\")\n",
    "lstm_history = lstm_model.fit(X_train, y_train, epochs=20, \n",
    "                    validation_data=(X_valid, y_valid))"
   ]
  },
  {
   "cell_type": "code",
   "execution_count": 60,
   "metadata": {},
   "outputs": [
    {
     "data": {
      "image/png": "[encoded data removed]",
      "text/plain": [
       "<Figure size 864x432 with 1 Axes>"
      ]
     },
     "metadata": {},
     "output_type": "display_data"
    }
   ],
   "source": [
    "plot_loss_curves(lstm_history)"
   ]
  },
  {
   "cell_type": "code",
   "execution_count": 61,
   "metadata": {
    "scrolled": true
   },
   "outputs": [
    {
     "name": "stdout",
     "output_type": "stream",
     "text": [
      "1000/1000 [==============================] - 0s 155us/sample - loss: 0.0029\n"
     ]
    },
    {
     "data": {
      "text/plain": [
       "0.0029400757532566787"
      ]
     },
     "execution_count": 61,
     "metadata": {},
     "output_type": "execute_result"
    }
   ],
   "source": [
    "lstm_model.evaluate(X_test, y_test)"
   ]
  },
  {
   "cell_type": "code",
   "execution_count": 62,
   "metadata": {},
   "outputs": [
    {
     "data": {
      "image/png": "[encoded data removed]",
      "text/plain": [
       "<Figure size 432x288 with 1 Axes>"
      ]
     },
     "metadata": {},
     "output_type": "display_data"
    }
   ],
   "source": [
    "lstm_y_pred = lstm_model.predict(X_test)\n",
    "plot_series(X_test[0, :, 0], y_test[0, 0], lstm_y_pred[0, 0])\n",
    "plt.show()"
   ]
  },
  {
   "cell_type": "code",
   "execution_count": 63,
   "metadata": {
    "scrolled": true
   },
   "outputs": [
    {
     "name": "stdout",
     "output_type": "stream",
     "text": [
      "LSTM Error: -0.0020024776458740234\n"
     ]
    }
   ],
   "source": [
    "print(\"LSTM Error: {}\".format(y_test[0,0] - lstm_y_pred[0,0]))"
   ]
  },
  {
   "cell_type": "markdown",
   "metadata": {},
   "source": [
    "## 1-C. LSTM 이용하여 다음 글자 예측하기"
   ]
  },
  {
   "cell_type": "code",
   "execution_count": 27,
   "metadata": {},
   "outputs": [],
   "source": [
    "shakespeare_url = \"https://raw.githubusercontent.com/karpathy/char-rnn/master/data/tinyshakespeare/input.txt\"\n",
    "filepath = keras.utils.get_file(\"shakespeare.txt\", shakespeare_url)\n",
    "with open(filepath) as f:\n",
    "    shakespeare_text = f.read()"
   ]
  },
  {
   "cell_type": "code",
   "execution_count": 28,
   "metadata": {},
   "outputs": [],
   "source": [
    "tokenizer = keras.preprocessing.text.Tokenizer(char_level=True)\n",
    "tokenizer.fit_on_texts(shakespeare_text)"
   ]
  },
  {
   "cell_type": "code",
   "execution_count": 29,
   "metadata": {},
   "outputs": [
    {
     "data": {
      "text/plain": [
       "[[20, 6, 9, 8, 3]]"
      ]
     },
     "execution_count": 29,
     "metadata": {},
     "output_type": "execute_result"
    }
   ],
   "source": [
    "tokenizer.texts_to_sequences([\"First\"])"
   ]
  },
  {
   "cell_type": "code",
   "execution_count": 30,
   "metadata": {},
   "outputs": [
    {
     "data": {
      "text/plain": [
       "['f i r s t']"
      ]
     },
     "execution_count": 30,
     "metadata": {},
     "output_type": "execute_result"
    }
   ],
   "source": [
    "tokenizer.sequences_to_texts([[20, 6, 9, 8, 3]])"
   ]
  },
  {
   "cell_type": "code",
   "execution_count": 31,
   "metadata": {},
   "outputs": [],
   "source": [
    "max_id = len(tokenizer.word_index) \n",
    "dataset_size = tokenizer.document_count "
   ]
  },
  {
   "cell_type": "code",
   "execution_count": 32,
   "metadata": {},
   "outputs": [],
   "source": [
    "[encoded] = np.array(tokenizer.texts_to_sequences([shakespeare_text])) - 1\n",
    "train_size = dataset_size * 1 // 100"
   ]
  },
  {
   "cell_type": "code",
   "execution_count": 33,
   "metadata": {},
   "outputs": [],
   "source": [
    "dataset = tf.data.Dataset.from_tensor_slices(encoded[:train_size])"
   ]
  },
  {
   "cell_type": "code",
   "execution_count": 34,
   "metadata": {},
   "outputs": [],
   "source": [
    "n_steps = 100\n",
    "window_length = n_steps + 1 \n",
    "dataset = dataset.repeat().window(window_length, shift=1, \n",
    "                                  drop_remainder=True)"
   ]
  },
  {
   "cell_type": "code",
   "execution_count": 35,
   "metadata": {
    "scrolled": true
   },
   "outputs": [],
   "source": [
    "dataset = dataset.flat_map(lambda window: window.batch(window_length))"
   ]
  },
  {
   "cell_type": "code",
   "execution_count": 36,
   "metadata": {},
   "outputs": [],
   "source": [
    "np.random.seed(42)"
   ]
  },
  {
   "cell_type": "code",
   "execution_count": 37,
   "metadata": {},
   "outputs": [],
   "source": [
    "batch_size = 32\n",
    "dataset = dataset.shuffle(10000).batch(batch_size)\n",
    "dataset = dataset.map(lambda windows: (windows[:, :-1], windows[:, 1:]))"
   ]
  },
  {
   "cell_type": "code",
   "execution_count": 38,
   "metadata": {},
   "outputs": [],
   "source": [
    "dataset = dataset.map(lambda X_batch, Y_batch: \n",
    "                      (tf.one_hot(X_batch, depth=max_id), Y_batch))"
   ]
  },
  {
   "cell_type": "code",
   "execution_count": 40,
   "metadata": {
    "scrolled": true
   },
   "outputs": [
    {
     "name": "stdout",
     "output_type": "stream",
     "text": [
      "Epoch 1/10\n",
      "348/348 [==============================] - 51s 147ms/step - loss: 3.1395\n",
      "Epoch 2/10\n",
      "348/348 [==============================] - 52s 149ms/step - loss: 3.0439\n",
      "Epoch 3/10\n",
      "348/348 [==============================] - 51s 146ms/step - loss: 2.9260\n",
      "Epoch 4/10\n",
      "348/348 [==============================] - 51s 146ms/step - loss: 2.8049\n",
      "Epoch 5/10\n",
      "348/348 [==============================] - 50s 144ms/step - loss: 2.6856\n",
      "Epoch 6/10\n",
      "348/348 [==============================] - 52s 150ms/step - loss: 2.6016\n",
      "Epoch 7/10\n",
      "348/348 [==============================] - 50s 144ms/step - loss: 2.5487\n",
      "Epoch 8/10\n",
      "348/348 [==============================] - 51s 146ms/step - loss: 2.5033\n",
      "Epoch 9/10\n",
      "348/348 [==============================] - 50s 143ms/step - loss: 2.4744\n",
      "Epoch 10/10\n",
      "348/348 [==============================] - 48s 138ms/step - loss: 2.4493\n"
     ]
    }
   ],
   "source": [
    "lstm_model = keras.models.Sequential([\n",
    "    keras.layers.LSTM(20, dropout=0.5, return_sequences=True, \n",
    "                      input_shape=[None, max_id]),\n",
    "    keras.layers.LSTM(20, dropout=0.5, return_sequences=True),\n",
    "    keras.layers.Dense(max_id, activation=\"softmax\")\n",
    "])\n",
    "\n",
    "lstm_model.compile(loss=\"sparse_categorical_crossentropy\", \n",
    "              optimizer=\"adam\")\n",
    "lstm_history = lstm_model.fit(dataset, \n",
    "                    steps_per_epoch=train_size // batch_size, \n",
    "                    epochs=10)"
   ]
  },
  {
   "cell_type": "code",
   "execution_count": 41,
   "metadata": {},
   "outputs": [],
   "source": [
    "def preprocess(texts):\n",
    "    X = np.array(tokenizer.texts_to_sequences(texts)) - 1\n",
    "    return tf.one_hot(X, max_id)"
   ]
  },
  {
   "cell_type": "code",
   "execution_count": 42,
   "metadata": {},
   "outputs": [],
   "source": [
    "X_new = preprocess([\"How are yo\"])\n",
    "sess = tf.Session()\n",
    "with sess.as_default():\n",
    "    X_new = X_new.eval()"
   ]
  },
  {
   "cell_type": "code",
   "execution_count": 43,
   "metadata": {},
   "outputs": [
    {
     "data": {
      "text/plain": [
       "'u'"
      ]
     },
     "execution_count": 43,
     "metadata": {},
     "output_type": "execute_result"
    }
   ],
   "source": [
    "lstm_Y_pred = lstm_model.predict_classes(X_new)\n",
    "tokenizer.sequences_to_texts(lstm_Y_pred + 1)[0][-1] "
   ]
  }
 ],
 "metadata": {
  "kernelspec": {
   "display_name": "Python 3",
   "language": "python",
   "name": "python3"
  },
  "language_info": {
   "codemirror_mode": {
    "name": "ipython",
    "version": 3
   },
   "file_extension": ".py",
   "mimetype": "text/x-python",
   "name": "python",
   "nbconvert_exporter": "python",
   "pygments_lexer": "ipython3",
   "version": "3.6.4"
  }
 },
 "nbformat": 4,
 "nbformat_minor": 2
}
