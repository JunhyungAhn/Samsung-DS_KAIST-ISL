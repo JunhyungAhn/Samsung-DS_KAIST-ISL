{
 "cells": [
  {
   "cell_type": "markdown",
   "metadata": {},
   "source": [
    "# <div style=\"text-align: center\"> Recurrent Neural Networks (RNN)</div>\n",
    "#### <div style=\"text-align: right\"> 2019.09.23 Monday</div>\n",
    "#### <div style=\"text-align: right\"> Prof. Changho Suh, TA Jaewoong Cho, Junhyung Ahn</div>"
   ]
  },
  {
   "cell_type": "markdown",
   "metadata": {},
   "source": [
    "**실습목표**\n",
    "- Simple RNN 생성하기\n",
    "- RNN을 훈련하여 시계열 예측하기 \n",
    "- Long Short-Term Memory (LSTM)\n",
    "- LSTM을 훈련하여 문장의 다음 글자 예측하기"
   ]
  },
  {
   "cell_type": "code",
   "execution_count": 3,
   "metadata": {},
   "outputs": [],
   "source": [
    "import tensorflow as tf\n",
    "import numpy as np\n",
    "import os\n",
    "import matplotlib as mpl\n",
    "import matplotlib.pyplot as plt\n",
    "\n",
    "from tensorflow import keras\n",
    "from keras import backend as K\n",
    "from sklearn.model_selection import train_test_split\n",
    "\n",
    "%matplotlib inline\n",
    "mpl.rc('axes', labelsize=14)\n",
    "mpl.rc('xtick', labelsize=12)\n",
    "mpl.rc('ytick', labelsize=12)"
   ]
  },
  {
   "cell_type": "code",
   "execution_count": 2,
   "metadata": {},
   "outputs": [],
   "source": [
    "from tensorflow.compat.v1 import ConfigProto\n",
    "from tensorflow.compat.v1 import InteractiveSession\n",
    "\n",
    "config = ConfigProto()\n",
    "config.gpu_options.allow_growth = True\n",
    "session = InteractiveSession(config=config)"
   ]
  },
  {
   "cell_type": "markdown",
   "metadata": {},
   "source": [
    "## 1-A. BasicRNNCell 함수 사용하여 RNN 생성하기"
   ]
  },
  {
   "cell_type": "code",
   "execution_count": 8,
   "metadata": {},
   "outputs": [
    {
     "name": "stdout",
     "output_type": "stream",
     "text": [
      "Output: \n",
      " [[ 0.43176767  0.5482154  -0.86434966  0.56038374  0.5489826 ]\n",
      " [ 0.8276491  -0.4616098  -0.9795521   0.9967786   0.9060194 ]\n",
      " [ 0.95616776 -0.9238276  -0.9970714   0.9999816   0.98343873]\n",
      " [ 0.30016604 -0.9999814   0.98829347  0.9575828  -0.08290724]] \n",
      "\n",
      "States: \n",
      " [[ 0.43176767  0.5482154  -0.86434966  0.56038374  0.5489826 ]\n",
      " [ 0.8276491  -0.4616098  -0.9795521   0.9967786   0.9060194 ]\n",
      " [ 0.95616776 -0.9238276  -0.9970714   0.9999816   0.98343873]\n",
      " [ 0.30016604 -0.9999814   0.98829347  0.9575828  -0.08290724]]\n",
      "\n",
      "Output == States? \n",
      " [[ True  True  True  True  True]\n",
      " [ True  True  True  True  True]\n",
      " [ True  True  True  True  True]\n",
      " [ True  True  True  True  True]]\n"
     ]
    }
   ],
   "source": [
    "# h0 = y0\n",
    "n_steps = 1 \n",
    "n_inputs= 3\n",
    "n_neurons = 5\n",
    "\n",
    "X = tf.placeholder(tf.float32, [None, n_steps, n_inputs])\n",
    "seq_length  = tf.placeholder(tf.int32, [None])\n",
    "\n",
    "with tf.variable_scope(\"rnn\", reuse=tf.AUTO_REUSE):\n",
    "    basic_cell = tf.contrib.rnn.BasicRNNCell(num_units = n_neurons)\n",
    "    outputs, states = tf.nn.dynamic_rnn(basic_cell, X, dtype = tf.float32, \n",
    "                                        sequence_length = seq_length)\n",
    "\n",
    "X_batch  = np.array([[[0,1,2]],    \n",
    "                     [[3,4,5]],    \n",
    "                     [[6,7,8]],    \n",
    "                     [[9,0,1]]])   \n",
    "\n",
    "seq_length_batch = np.array([1,1,1,1])\n",
    "\n",
    "with tf.Session() as sess:\n",
    "    init = tf.global_variables_initializer()\n",
    "    init.run()\n",
    "    output_vals, states_val = sess.run([outputs, states], \n",
    "                                       feed_dict= {X: X_batch , seq_length: seq_length_batch})\n",
    "\n",
    "output_vals = output_vals.reshape(output_vals.shape[0],output_vals.shape[2])\n",
    "print(\"Output: \\n {} \\n\".format(output_vals))\n",
    "print(\"States: \\n {}\\n\".format(states_val))\n",
    "print(\"Output == States? \\n {}\".format(output_vals==states_val))"
   ]
  },
  {
   "cell_type": "code",
   "execution_count": 9,
   "metadata": {},
   "outputs": [
    {
     "name": "stdout",
     "output_type": "stream",
     "text": [
      "Y0_val: \n",
      "[[ 0.80473197 -0.93374103 -0.34794635  0.30171108 -0.7344416 ]\n",
      " [ 0.9634274  -0.99994963  0.8311196   0.95033884 -0.99655   ]\n",
      " [ 0.9936071  -0.9999998   0.9918045   0.9975856  -0.9999609 ]\n",
      " [-0.73411024 -0.6986788   0.9998829   0.542608   -0.9937409 ]]\n",
      "Y1_val: \n",
      "[[ 0.99217063 -1.          0.9998882   0.99985206 -0.9996916 ]\n",
      " [ 0.6947066  -0.12046456  0.61854374  0.22363791  0.9072764 ]\n",
      " [ 0.89100903 -0.99997944  0.99961287  0.9943949  -0.9664566 ]\n",
      " [-0.28205147 -0.99702054  0.9977043   0.6444405  -0.79240215]]\n"
     ]
    }
   ],
   "source": [
    "# 정적으로 타임 스텝 펼치기\n",
    "X0 = tf.placeholder(tf.float32, [None, n_inputs])\n",
    "X1 =  tf.placeholder(tf.float32, [None, n_inputs])\n",
    "\n",
    "# 미니배치\n",
    "X0_batch = np.array([[0,1,2],[3,4,5],[6,7,8],[9,0,1]]) #t=0\n",
    "X1_batch = np.array([[9,8,7],[0,0,0],[6,5,4],[3,2,1]]) #t=1\n",
    "\n",
    "with tf.variable_scope(\"rnn\", reuse=tf.AUTO_REUSE):\n",
    "    basic_cell = tf.contrib.rnn.BasicRNNCell(num_units = n_neurons)\n",
    "    output_seqs, states = tf.contrib.rnn.static_rnn(basic_cell,[X0,X1],dtype=tf.float32)\n",
    "    Y0,Y1 = output_seqs\n",
    "\n",
    "with tf.Session() as sess:\n",
    "    init = tf.global_variables_initializer()\n",
    "    sess.run(init)\n",
    "    Y0_val, Y1_val = sess.run([Y0,Y1], feed_dict = {X0: X0_batch, X1:X1_batch})\n",
    "    \n",
    "print(\"Y0_val: \\n{}\".format(Y0_val)) # t=0에서 출력\n",
    "print(\"Y1_val: \\n{}\".format(Y1_val)) # t=1에서 출력"
   ]
  },
  {
   "cell_type": "code",
   "execution_count": 5,
   "metadata": {
    "scrolled": true
   },
   "outputs": [
    {
     "name": "stdout",
     "output_type": "stream",
     "text": [
      "Output: \n",
      " [[[-0.61635274  0.6478881   0.49444214 -0.8819403   0.91511047]\n",
      "  [ 0.08124901  0.9999985   0.13071336 -1.          1.        ]]\n",
      "\n",
      " [[-0.6908321   0.99349755  0.51423025 -0.9999653   0.9999816 ]\n",
      "  [ 0.          0.          0.          0.          0.        ]]\n",
      "\n",
      " [[-0.7530615   0.9999004   0.53348565 -1.          1.        ]\n",
      "  [ 0.08116708  0.99994326 -0.01200833 -0.9999966   0.9999953 ]]\n",
      "\n",
      " [[ 0.5035339   0.247873   -0.7249967  -0.99844426  0.99881756]\n",
      "  [ 0.07877089  0.97740036  0.07343581 -0.99244636  0.9942239 ]]] \n",
      "\n",
      "States: \n",
      " [[ 0.08124901  0.9999985   0.13071336 -1.          1.        ]\n",
      " [-0.6908321   0.99349755  0.51423025 -0.9999653   0.9999816 ]\n",
      " [ 0.08116708  0.99994326 -0.01200833 -0.9999966   0.9999953 ]\n",
      " [ 0.07877089  0.97740036  0.07343581 -0.99244636  0.9942239 ]]\n"
     ]
    }
   ],
   "source": [
    "# 가변 길이 시퀀스 입력\n",
    "n_steps = 2\n",
    "\n",
    "X = tf.placeholder(tf.float32, [None, n_steps, n_inputs])\n",
    "seq_length  = tf.placeholder(tf.int32, [None])\n",
    "with tf.variable_scope(\"rnn\", reuse=tf.AUTO_REUSE):\n",
    "    basic_cell = tf.contrib.rnn.BasicRNNCell(num_units = n_neurons)\n",
    "    outputs, states = tf.nn.dynamic_rnn(basic_cell, X, dtype = tf.float32, sequence_length = seq_length)\n",
    "\n",
    "X_batch  = np.array([\n",
    "                     # t = 0  # t = 1\n",
    "                     [[0,1,2],[9,8,7]],    # 샘플 0\n",
    "                     [[3,4,5],[0,0,0]],    # 샘플 1\n",
    "                     [[6,7,8],[6,5,4]],    # 샘플 2\n",
    "                     [[9,0,1],[3,2,1]]])   # 샘플 3\n",
    "\n",
    "seq_length_batch = np.array([2,1,2,2])\n",
    "\n",
    "with tf.Session() as sess:\n",
    "    init = tf.global_variables_initializer()\n",
    "    init.run()\n",
    "    output_vals, states_val = sess.run([outputs, states], feed_dict= {X: X_batch , seq_length: seq_length_batch})\n",
    "    \n",
    "print(\"Output: \\n {} \\n\".format(output_vals))\n",
    "print(\"States: \\n {}\".format(states_val))"
   ]
  },
  {
   "cell_type": "code",
   "execution_count": 6,
   "metadata": {
    "scrolled": true
   },
   "outputs": [],
   "source": [
    "def plot(history):\n",
    "    fig, axes = plt.subplots(1, 2, figsize=(14,8))\n",
    "    ax1, ax2 = axes.ravel()\n",
    "    \n",
    "    ax1.plot(history.history[\"loss\"], label=\"Training loss\")\n",
    "    ax1.plot(history.history[\"val_loss\"], label=\"Validation loss\")\n",
    "    ax1.set_xlabel(\"Epoch\")\n",
    "    ax1.set_ylabel(\"Loss\")\n",
    "    ax1.legend()\n",
    "    \n",
    "    ax2.plot(history.history[\"acc\"], label=\"Training accuracy\")\n",
    "    ax2.plot(history.history[\"val_acc\"], label=\"Validation accuracy\")\n",
    "    ax2.set_xlabel(\"Epoch\")\n",
    "    ax2.set_ylabel(\"Sccuracy\")\n",
    "    ax2.legend()"
   ]
  },
  {
   "cell_type": "markdown",
   "metadata": {},
   "source": [
    "## 1-B. 시계열 예측을 위해 훈련하기"
   ]
  },
  {
   "cell_type": "code",
   "execution_count": 7,
   "metadata": {
    "scrolled": true
   },
   "outputs": [],
   "source": [
    "def generate_time_series(batch_size, n_steps):\n",
    "    freq1, freq2, offsets1, offsets2 = np.random.rand(4, batch_size, 1)\n",
    "    time = np.linspace(0, 1, n_steps)\n",
    "    series = 0.5 * np.sin((time - offsets1) * (freq1 * 10 + 10))  \n",
    "    series += 0.2 * np.sin((time - offsets2) * (freq2 * 20 + 20)) \n",
    "    series += 0.1 * (np.random.rand(batch_size, n_steps) - 0.5)   \n",
    "    return series[..., np.newaxis].astype(np.float32)"
   ]
  },
  {
   "cell_type": "code",
   "execution_count": 8,
   "metadata": {},
   "outputs": [],
   "source": [
    "np.random.seed(42)\n",
    "\n",
    "n_steps = 50\n",
    "series = generate_time_series(10000, n_steps + 1)\n",
    "X_train, y_train = series[:7000, :n_steps], series[:7000, -1]\n",
    "X_valid, y_valid = series[7000:9000, :n_steps], series[7000:9000, -1]\n",
    "X_test, y_test = series[9000:, :n_steps], series[9000:, -1]"
   ]
  },
  {
   "cell_type": "code",
   "execution_count": 9,
   "metadata": {},
   "outputs": [
    {
     "data": {
      "text/plain": [
       "((7000, 50, 1), (7000, 1))"
      ]
     },
     "execution_count": 9,
     "metadata": {},
     "output_type": "execute_result"
    }
   ],
   "source": [
    "X_train.shape, y_train.shape"
   ]
  },
  {
   "cell_type": "code",
   "execution_count": 10,
   "metadata": {},
   "outputs": [
    {
     "data": {
      "image/png": "[encoded data removed]",
      "text/plain": [
       "<Figure size 864x288 with 3 Axes>"
      ]
     },
     "metadata": {},
     "output_type": "display_data"
    }
   ],
   "source": [
    "def plot_series(series, y=None, y_pred=None, \n",
    "                x_label=\"$t$\", \n",
    "                y_label=\"$x(t)$\"):\n",
    "    plt.plot(series, \".-\")\n",
    "    if y is not None:\n",
    "        plt.plot(n_steps, y, \"bx\", markersize=10, label='Actual')\n",
    "    if y_pred is not None:\n",
    "        plt.plot(n_steps, y_pred, \"ro\",label='Prediction')\n",
    "    plt.grid(True)\n",
    "    if x_label:\n",
    "        plt.xlabel(x_label, fontsize=16)\n",
    "    if y_label:\n",
    "        plt.ylabel(y_label, fontsize=16, rotation=0)\n",
    "    plt.hlines(0, 0, 100, linewidth=1)\n",
    "    plt.axis([0, n_steps + 1, -1, 1])\n",
    "\n",
    "fig, axes = plt.subplots(nrows=1, ncols=3, sharey=True,\n",
    "                         figsize=(12, 4))\n",
    "for col in range(3):\n",
    "    plt.sca(axes[col])\n",
    "    plot_series(X_valid[col, :, 0], y_valid[col, 0],\n",
    "                y_label=(\"$x(t)$\" if col==0 else None))\n",
    "plt.show()"
   ]
  },
  {
   "cell_type": "markdown",
   "metadata": {},
   "source": [
    "### 1. Simple RNN"
   ]
  },
  {
   "cell_type": "code",
   "execution_count": 11,
   "metadata": {
    "scrolled": false
   },
   "outputs": [
    {
     "name": "stdout",
     "output_type": "stream",
     "text": [
      "Train on 7000 samples, validate on 2000 samples\n",
      "Epoch 1/20\n",
      "7000/7000 [==============================] - 2s 220us/sample - loss: 0.2008 - val_loss: 0.1903\n",
      "Epoch 2/20\n",
      "7000/7000 [==============================] - 1s 205us/sample - loss: 0.1666 - val_loss: 0.1590\n",
      "Epoch 3/20\n",
      "7000/7000 [==============================] - 1s 209us/sample - loss: 0.1399 - val_loss: 0.1334\n",
      "Epoch 4/20\n",
      "7000/7000 [==============================] - 1s 208us/sample - loss: 0.1159 - val_loss: 0.1083\n",
      "Epoch 5/20\n",
      "7000/7000 [==============================] - 1s 204us/sample - loss: 0.0932 - val_loss: 0.0861\n",
      "Epoch 6/20\n",
      "7000/7000 [==============================] - 1s 207us/sample - loss: 0.0734 - val_loss: 0.0670\n",
      "Epoch 7/20\n",
      "7000/7000 [==============================] - 1s 207us/sample - loss: 0.0562 - val_loss: 0.0507\n",
      "Epoch 8/20\n",
      "7000/7000 [==============================] - 1s 204us/sample - loss: 0.0419 - val_loss: 0.0373\n",
      "Epoch 9/20\n",
      "7000/7000 [==============================] - 1s 202us/sample - loss: 0.0305 - val_loss: 0.0270\n",
      "Epoch 10/20\n",
      "7000/7000 [==============================] - 2s 216us/sample - loss: 0.0224 - val_loss: 0.0200\n",
      "Epoch 11/20\n",
      "7000/7000 [==============================] - 1s 207us/sample - loss: 0.0173 - val_loss: 0.0158\n",
      "Epoch 12/20\n",
      "7000/7000 [==============================] - 1s 212us/sample - loss: 0.0145 - val_loss: 0.0137\n",
      "Epoch 13/20\n",
      "7000/7000 [==============================] - 1s 214us/sample - loss: 0.0132 - val_loss: 0.0127\n",
      "Epoch 14/20\n",
      "7000/7000 [==============================] - 1s 202us/sample - loss: 0.0126 - val_loss: 0.0122\n",
      "Epoch 15/20\n",
      "7000/7000 [==============================] - 1s 212us/sample - loss: 0.0123 - val_loss: 0.0120\n",
      "Epoch 16/20\n",
      "7000/7000 [==============================] - 1s 211us/sample - loss: 0.0122 - val_loss: 0.0118\n",
      "Epoch 17/20\n",
      "7000/7000 [==============================] - 2s 215us/sample - loss: 0.0121 - val_loss: 0.0116\n",
      "Epoch 18/20\n",
      "7000/7000 [==============================] - 2s 216us/sample - loss: 0.0119 - val_loss: 0.0115\n",
      "Epoch 19/20\n",
      "7000/7000 [==============================] - 2s 218us/sample - loss: 0.0118 - val_loss: 0.0114\n",
      "Epoch 20/20\n",
      "7000/7000 [==============================] - 1s 213us/sample - loss: 0.0117 - val_loss: 0.0113\n"
     ]
    }
   ],
   "source": [
    "np.random.seed(42)\n",
    "\n",
    "simple_rnn_model = keras.models.Sequential([\n",
    "    keras.layers.SimpleRNN(1, input_shape=[None, 1])\n",
    "])\n",
    "\n",
    "simple_rnn_model.compile(loss=\"mse\", optimizer=\"adam\")\n",
    "simple_rnn_history = simple_rnn_model.fit(X_train, y_train, epochs=20, \n",
    "                    validation_data=(X_valid, y_valid))"
   ]
  },
  {
   "cell_type": "code",
   "execution_count": 12,
   "metadata": {},
   "outputs": [],
   "source": [
    "def plot_loss_curves(history):\n",
    "    plt.figure(figsize=(12,6))\n",
    "    plt.plot(history.history[\"loss\"], label = \"Training loss\")\n",
    "    plt.plot(history.history[\"val_loss\"], label = \"Validation loss\")\n",
    "    plt.xlabel(\"Epoch\")\n",
    "    plt.ylabel(\"Loss\")\n",
    "    plt.legend()\n",
    "    plt.show()"
   ]
  },
  {
   "cell_type": "code",
   "execution_count": 13,
   "metadata": {},
   "outputs": [
    {
     "data": {
      "image/png": "[encoded data removed]",
      "text/plain": [
       "<Figure size 864x432 with 1 Axes>"
      ]
     },
     "metadata": {},
     "output_type": "display_data"
    }
   ],
   "source": [
    "plot_loss_curves(simple_rnn_history)"
   ]
  },
  {
   "cell_type": "code",
   "execution_count": 14,
   "metadata": {},
   "outputs": [
    {
     "name": "stdout",
     "output_type": "stream",
     "text": [
      "2000/2000 [==============================] - 0s 54us/sample - loss: 0.0113\n"
     ]
    },
    {
     "data": {
      "text/plain": [
       "0.011300665125250816"
      ]
     },
     "execution_count": 14,
     "metadata": {},
     "output_type": "execute_result"
    }
   ],
   "source": [
    "simple_rnn_model.evaluate(X_valid, y_valid)"
   ]
  },
  {
   "cell_type": "code",
   "execution_count": 15,
   "metadata": {},
   "outputs": [
    {
     "data": {
      "image/png": "[encoded data removed]",
      "text/plain": [
       "<Figure size 432x288 with 1 Axes>"
      ]
     },
     "metadata": {},
     "output_type": "display_data"
    }
   ],
   "source": [
    "simple_rnn_y_pred = simple_rnn_model.predict(X_valid)\n",
    "plot_series(X_valid[0, :, 0], y_valid[0, 0], simple_rnn_y_pred[0, 0])\n",
    "plt.show()"
   ]
  },
  {
   "cell_type": "code",
   "execution_count": 16,
   "metadata": {
    "scrolled": true
   },
   "outputs": [
    {
     "name": "stdout",
     "output_type": "stream",
     "text": [
      "Simple RNN Error: -0.1096467673778534\n"
     ]
    }
   ],
   "source": [
    "print(\"Simple RNN Error: {}\".format(y_valid[0,0] - simple_rnn_y_pred[0,0]))"
   ]
  },
  {
   "cell_type": "markdown",
   "metadata": {},
   "source": [
    "###  2. LSTM"
   ]
  },
  {
   "cell_type": "code",
   "execution_count": 17,
   "metadata": {
    "scrolled": false
   },
   "outputs": [
    {
     "name": "stdout",
     "output_type": "stream",
     "text": [
      "Train on 7000 samples, validate on 2000 samples\n",
      "Epoch 1/20\n",
      "7000/7000 [==============================] - 15s 2ms/sample - loss: 0.0510 - val_loss: 0.0325\n",
      "Epoch 2/20\n",
      "7000/7000 [==============================] - 14s 2ms/sample - loss: 0.0218 - val_loss: 0.0142\n",
      "Epoch 3/20\n",
      "7000/7000 [==============================] - 14s 2ms/sample - loss: 0.0120 - val_loss: 0.0106\n",
      "Epoch 4/20\n",
      "7000/7000 [==============================] - 15s 2ms/sample - loss: 0.0072 - val_loss: 0.0044\n",
      "Epoch 5/20\n",
      "7000/7000 [==============================] - 15s 2ms/sample - loss: 0.0037 - val_loss: 0.0031\n",
      "Epoch 6/20\n",
      "7000/7000 [==============================] - 15s 2ms/sample - loss: 0.0032 - val_loss: 0.0030\n",
      "Epoch 7/20\n",
      "7000/7000 [==============================] - 14s 2ms/sample - loss: 0.0030 - val_loss: 0.0029\n",
      "Epoch 8/20\n",
      "7000/7000 [==============================] - 14s 2ms/sample - loss: 0.0029 - val_loss: 0.0030\n",
      "Epoch 9/20\n",
      "7000/7000 [==============================] - 14s 2ms/sample - loss: 0.0029 - val_loss: 0.0028\n",
      "Epoch 10/20\n",
      "7000/7000 [==============================] - 14s 2ms/sample - loss: 0.0029 - val_loss: 0.0027\n",
      "Epoch 11/20\n",
      "7000/7000 [==============================] - 13s 2ms/sample - loss: 0.0029 - val_loss: 0.0027\n",
      "Epoch 12/20\n",
      "7000/7000 [==============================] - 14s 2ms/sample - loss: 0.0029 - val_loss: 0.0027\n",
      "Epoch 13/20\n",
      "7000/7000 [==============================] - 14s 2ms/sample - loss: 0.0028 - val_loss: 0.0031\n",
      "Epoch 14/20\n",
      "7000/7000 [==============================] - 13s 2ms/sample - loss: 0.0028 - val_loss: 0.0030\n",
      "Epoch 15/20\n",
      "7000/7000 [==============================] - 14s 2ms/sample - loss: 0.0028 - val_loss: 0.0026\n",
      "Epoch 16/20\n",
      "7000/7000 [==============================] - 16s 2ms/sample - loss: 0.0028 - val_loss: 0.0026\n",
      "Epoch 17/20\n",
      "7000/7000 [==============================] - 15s 2ms/sample - loss: 0.0028 - val_loss: 0.0025\n",
      "Epoch 18/20\n",
      "7000/7000 [==============================] - 14s 2ms/sample - loss: 0.0028 - val_loss: 0.0030\n",
      "Epoch 19/20\n",
      "7000/7000 [==============================] - 14s 2ms/sample - loss: 0.0028 - val_loss: 0.0025\n",
      "Epoch 20/20\n",
      "7000/7000 [==============================] - 13s 2ms/sample - loss: 0.0027 - val_loss: 0.0030\n"
     ]
    }
   ],
   "source": [
    "np.random.seed(42)\n",
    "\n",
    "lstm_model = keras.models.Sequential([\n",
    "    keras.layers.LSTM(20, return_sequences=True, \n",
    "                      input_shape=[None, 1]),\n",
    "    keras.layers.LSTM(20),\n",
    "    keras.layers.Dense(1)\n",
    "])\n",
    "\n",
    "lstm_model.compile(loss=\"mse\", optimizer=\"adam\")\n",
    "lstm_history = lstm_model.fit(X_train, y_train, epochs=20, \n",
    "                    validation_data=(X_valid, y_valid))"
   ]
  },
  {
   "cell_type": "code",
   "execution_count": 18,
   "metadata": {},
   "outputs": [
    {
     "data": {
      "image/png": "[encoded data removed]",
      "text/plain": [
       "<Figure size 864x432 with 1 Axes>"
      ]
     },
     "metadata": {},
     "output_type": "display_data"
    }
   ],
   "source": [
    "plot_loss_curves(lstm_history)"
   ]
  },
  {
   "cell_type": "code",
   "execution_count": 19,
   "metadata": {
    "scrolled": true
   },
   "outputs": [
    {
     "name": "stdout",
     "output_type": "stream",
     "text": [
      "2000/2000 [==============================] - 1s 318us/sample - loss: 0.0030\n"
     ]
    },
    {
     "data": {
      "text/plain": [
       "0.0029764097575098276"
      ]
     },
     "execution_count": 19,
     "metadata": {},
     "output_type": "execute_result"
    }
   ],
   "source": [
    "lstm_model.evaluate(X_valid, y_valid)"
   ]
  },
  {
   "cell_type": "code",
   "execution_count": 20,
   "metadata": {},
   "outputs": [
    {
     "data": {
      "image/png": "[encoded data removed]",
      "text/plain": [
       "<Figure size 432x288 with 1 Axes>"
      ]
     },
     "metadata": {},
     "output_type": "display_data"
    }
   ],
   "source": [
    "lstm_y_pred = lstm_model.predict(X_valid)\n",
    "plot_series(X_valid[0, :, 0], y_valid[0, 0], lstm_y_pred[0, 0])\n",
    "plt.show()"
   ]
  },
  {
   "cell_type": "code",
   "execution_count": 21,
   "metadata": {
    "scrolled": true
   },
   "outputs": [
    {
     "name": "stdout",
     "output_type": "stream",
     "text": [
      "LSTM Error: -0.0878763198852539\n"
     ]
    }
   ],
   "source": [
    "print(\"LSTM Error: {}\".format(y_valid[0,0] - lstm_y_pred[0,0]))"
   ]
  },
  {
   "cell_type": "markdown",
   "metadata": {},
   "source": [
    "## 1-F. LSTM 이용하여 다음 글자 예측하기"
   ]
  },
  {
   "cell_type": "code",
   "execution_count": 22,
   "metadata": {},
   "outputs": [],
   "source": [
    "shakespeare_url = \"https://raw.githubusercontent.com/karpathy/char-rnn/master/data/tinyshakespeare/input.txt\"\n",
    "filepath = keras.utils.get_file(\"shakespeare.txt\", shakespeare_url)\n",
    "with open(filepath) as f:\n",
    "    shakespeare_text = f.read()"
   ]
  },
  {
   "cell_type": "code",
   "execution_count": 23,
   "metadata": {},
   "outputs": [],
   "source": [
    "tokenizer = keras.preprocessing.text.Tokenizer(char_level=True)\n",
    "tokenizer.fit_on_texts(shakespeare_text)"
   ]
  },
  {
   "cell_type": "code",
   "execution_count": 24,
   "metadata": {},
   "outputs": [
    {
     "data": {
      "text/plain": [
       "[[20, 6, 9, 8, 3]]"
      ]
     },
     "execution_count": 24,
     "metadata": {},
     "output_type": "execute_result"
    }
   ],
   "source": [
    "tokenizer.texts_to_sequences([\"First\"])"
   ]
  },
  {
   "cell_type": "code",
   "execution_count": 25,
   "metadata": {},
   "outputs": [
    {
     "data": {
      "text/plain": [
       "['f i r s t']"
      ]
     },
     "execution_count": 25,
     "metadata": {},
     "output_type": "execute_result"
    }
   ],
   "source": [
    "tokenizer.sequences_to_texts([[20, 6, 9, 8, 3]])"
   ]
  },
  {
   "cell_type": "code",
   "execution_count": 26,
   "metadata": {},
   "outputs": [],
   "source": [
    "max_id = len(tokenizer.word_index) \n",
    "dataset_size = tokenizer.document_count "
   ]
  },
  {
   "cell_type": "code",
   "execution_count": 27,
   "metadata": {},
   "outputs": [],
   "source": [
    "[encoded] = np.array(tokenizer.texts_to_sequences([shakespeare_text])) - 1\n",
    "train_size = dataset_size * 1 // 100"
   ]
  },
  {
   "cell_type": "code",
   "execution_count": 28,
   "metadata": {},
   "outputs": [],
   "source": [
    "dataset = tf.data.Dataset.from_tensor_slices(encoded[:train_size])"
   ]
  },
  {
   "cell_type": "code",
   "execution_count": 29,
   "metadata": {},
   "outputs": [],
   "source": [
    "n_steps = 100\n",
    "window_length = n_steps + 1 \n",
    "dataset = dataset.repeat().window(window_length, shift=1, \n",
    "                                  drop_remainder=True)"
   ]
  },
  {
   "cell_type": "code",
   "execution_count": 30,
   "metadata": {
    "scrolled": true
   },
   "outputs": [],
   "source": [
    "dataset = dataset.flat_map(lambda window: window.batch(window_length))"
   ]
  },
  {
   "cell_type": "code",
   "execution_count": 31,
   "metadata": {},
   "outputs": [],
   "source": [
    "np.random.seed(42)"
   ]
  },
  {
   "cell_type": "code",
   "execution_count": 32,
   "metadata": {},
   "outputs": [],
   "source": [
    "batch_size = 32\n",
    "dataset = dataset.shuffle(10000).batch(batch_size)\n",
    "dataset = dataset.map(lambda windows: (windows[:, :-1], windows[:, 1:]))"
   ]
  },
  {
   "cell_type": "code",
   "execution_count": 33,
   "metadata": {},
   "outputs": [],
   "source": [
    "dataset = dataset.map(lambda X_batch, Y_batch: \n",
    "                      (tf.one_hot(X_batch, depth=max_id), Y_batch))"
   ]
  },
  {
   "cell_type": "code",
   "execution_count": 34,
   "metadata": {},
   "outputs": [],
   "source": [
    "dataset = dataset.prefetch(1)"
   ]
  },
  {
   "cell_type": "code",
   "execution_count": 36,
   "metadata": {
    "scrolled": true
   },
   "outputs": [
    {
     "name": "stdout",
     "output_type": "stream",
     "text": [
      "Epoch 1/10\n",
      "348/348 [==============================] - 50s 142ms/step - loss: 3.1422\n",
      "Epoch 2/10\n",
      "348/348 [==============================] - 48s 138ms/step - loss: 3.0076\n",
      "Epoch 3/10\n",
      "348/348 [==============================] - 48s 139ms/step - loss: 2.8284\n",
      "Epoch 4/10\n",
      "348/348 [==============================] - 48s 139ms/step - loss: 2.7011\n",
      "Epoch 5/10\n",
      "348/348 [==============================] - 48s 139ms/step - loss: 2.6382\n",
      "Epoch 6/10\n",
      "348/348 [==============================] - 48s 139ms/step - loss: 2.5832\n",
      "Epoch 7/10\n",
      "348/348 [==============================] - 48s 139ms/step - loss: 2.5407\n",
      "Epoch 8/10\n",
      "348/348 [==============================] - 49s 140ms/step - loss: 2.5050\n",
      "Epoch 9/10\n",
      "348/348 [==============================] - 48s 139ms/step - loss: 2.4788\n",
      "Epoch 10/10\n",
      "348/348 [==============================] - 48s 139ms/step - loss: 2.4555\n"
     ]
    }
   ],
   "source": [
    "lstm_model = keras.models.Sequential([\n",
    "    keras.layers.LSTM(20, dropout = 0.5, return_sequences=True, \n",
    "                      input_shape=[None, max_id]),\n",
    "    keras.layers.LSTM(20, dropout = 0.5, return_sequences=True),\n",
    "    keras.layers.Dense(max_id, activation=\"softmax\")\n",
    "])\n",
    "\n",
    "lstm_model.compile(loss=\"sparse_categorical_crossentropy\", \n",
    "              optimizer=\"adam\")\n",
    "lstm_history = lstm_model.fit(dataset, \n",
    "                    steps_per_epoch=train_size // batch_size, \n",
    "                    epochs=10)"
   ]
  },
  {
   "cell_type": "code",
   "execution_count": 38,
   "metadata": {},
   "outputs": [],
   "source": [
    "def preprocess(texts):\n",
    "    X = np.array(tokenizer.texts_to_sequences(texts)) - 1\n",
    "    return tf.one_hot(X, max_id)"
   ]
  },
  {
   "cell_type": "code",
   "execution_count": 39,
   "metadata": {},
   "outputs": [],
   "source": [
    "X_new = preprocess([\"How are yo\"])\n",
    "sess = tf.Session()\n",
    "with sess.as_default():\n",
    "    X_new = X_new.eval()"
   ]
  },
  {
   "cell_type": "code",
   "execution_count": 43,
   "metadata": {},
   "outputs": [
    {
     "data": {
      "text/plain": [
       "'u'"
      ]
     },
     "execution_count": 43,
     "metadata": {},
     "output_type": "execute_result"
    }
   ],
   "source": [
    "lstm_Y_pred = lstm_model.predict_classes(X_new)\n",
    "tokenizer.sequences_to_texts(lstm_Y_pred + 1)[0][-1] "
   ]
  }
 ],
 "metadata": {
  "kernelspec": {
   "display_name": "Python 3",
   "language": "python",
   "name": "python3"
  },
  "language_info": {
   "codemirror_mode": {
    "name": "ipython",
    "version": 3
   },
   "file_extension": ".py",
   "mimetype": "text/x-python",
   "name": "python",
   "nbconvert_exporter": "python",
   "pygments_lexer": "ipython3",
   "version": "3.6.4"
  }
 },
 "nbformat": 4,
 "nbformat_minor": 2
}
